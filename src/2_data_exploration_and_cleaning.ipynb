{
 "cells": [
  {
   "cell_type": "markdown",
   "metadata": {},
   "source": [
    "# Summary"
   ]
  },
  {
   "cell_type": "markdown",
   "metadata": {},
   "source": [
    "1. Load data and browse data\n",
    "2. Explore data   \n",
    "  2.1 Select identifier   \n",
    "  \n",
    "  2.2 Numeric variables    \n",
    "  2.2.1 page_stayTime  \n",
    "  \n",
    "  2.3 Categorical variables    \n",
    "  2.3.1 event  \n",
    "  2.3.2 day  \n",
    "  2.3.3 title  \n",
    "  2.3.4 latest_referrer_host  \n",
    "  2.3.5 latest_utm_source  \n",
    "  2.3.6 browser  \n",
    "  2.3.7 ip  \n",
    "  2.3.8 model  \n",
    "  2.3.9 os  \n",
    "  2.3.10 name  \n",
    "  2.3.11 is_first_day  \n",
    "\n",
    "3. Select features  "
   ]
  },
  {
   "cell_type": "markdown",
   "metadata": {},
   "source": [
    "## 1. Load data and browse data"
   ]
  },
  {
   "cell_type": "code",
   "execution_count": 436,
   "metadata": {},
   "outputs": [],
   "source": [
    "# Import modules\n",
    "import numpy as np\n",
    "import pandas as pd\n",
    "import datetime\n",
    "import matplotlib.pyplot as plt\n",
    "\n",
    "# This statement allow to display plot without asking to\n",
    "%matplotlib inline\n",
    "\n",
    "# Always make it pretty.\n",
    "plt.style.use('ggplot')"
   ]
  },
  {
   "cell_type": "code",
   "execution_count": 437,
   "metadata": {},
   "outputs": [],
   "source": [
    "# set maximum shown rows as 15\n",
    "pd.options.display.max_rows = 15"
   ]
  },
  {
   "cell_type": "code",
   "execution_count": 438,
   "metadata": {},
   "outputs": [
    {
     "name": "stderr",
     "output_type": "stream",
     "text": [
      "/anaconda3/lib/python3.6/site-packages/IPython/core/interactiveshell.py:2785: DtypeWarning: Columns (24) have mixed types. Specify dtype option on import or set low_memory=False.\n",
      "  interactivity=interactivity, compiler=compiler, result=result)\n"
     ]
    }
   ],
   "source": [
    "# Load data from file\n",
    "df = pd.read_csv('../data/data_all.csv')"
   ]
  },
  {
   "cell_type": "code",
   "execution_count": 439,
   "metadata": {},
   "outputs": [
    {
     "data": {
      "text/html": [
       "<div>\n",
       "<style scoped>\n",
       "    .dataframe tbody tr th:only-of-type {\n",
       "        vertical-align: middle;\n",
       "    }\n",
       "\n",
       "    .dataframe tbody tr th {\n",
       "        vertical-align: top;\n",
       "    }\n",
       "\n",
       "    .dataframe thead th {\n",
       "        text-align: right;\n",
       "    }\n",
       "</style>\n",
       "<table border=\"1\" class=\"dataframe\">\n",
       "  <thead>\n",
       "    <tr style=\"text-align: right;\">\n",
       "      <th></th>\n",
       "      <th>tp</th>\n",
       "      <th>nocache</th>\n",
       "      <th>dist_id</th>\n",
       "      <th>event</th>\n",
       "      <th>day</th>\n",
       "      <th>page_stayTime</th>\n",
       "      <th>title</th>\n",
       "      <th>latest_referrer</th>\n",
       "      <th>latest_referrer_host</th>\n",
       "      <th>latest_utm_campaign</th>\n",
       "      <th>...</th>\n",
       "      <th>ip</th>\n",
       "      <th>model</th>\n",
       "      <th>os</th>\n",
       "      <th>os_version</th>\n",
       "      <th>is_first_day</th>\n",
       "      <th>is_first_time</th>\n",
       "      <th>name</th>\n",
       "      <th>isSuccess</th>\n",
       "      <th>isMsg</th>\n",
       "      <th>result</th>\n",
       "    </tr>\n",
       "  </thead>\n",
       "  <tbody>\n",
       "    <tr>\n",
       "      <th>0</th>\n",
       "      <td>track</td>\n",
       "      <td>654392402996</td>\n",
       "      <td>595466e9a8e733434ce08de16e927d985e0b5d48</td>\n",
       "      <td>index_leave</td>\n",
       "      <td>2017-03-06</td>\n",
       "      <td>5.692</td>\n",
       "      <td>NaN</td>\n",
       "      <td>NaN</td>\n",
       "      <td>NaN</td>\n",
       "      <td>通用词</td>\n",
       "      <td>...</td>\n",
       "      <td>219.135.131.99</td>\n",
       "      <td>pc</td>\n",
       "      <td>windows</td>\n",
       "      <td>6.1</td>\n",
       "      <td>True</td>\n",
       "      <td>False</td>\n",
       "      <td>NaN</td>\n",
       "      <td>NaN</td>\n",
       "      <td>NaN</td>\n",
       "      <td>NaN</td>\n",
       "    </tr>\n",
       "    <tr>\n",
       "      <th>1</th>\n",
       "      <td>track</td>\n",
       "      <td>9587552771961</td>\n",
       "      <td>9939d3e087bca29c42334d96dccd25ca0e06652a</td>\n",
       "      <td>$pageview</td>\n",
       "      <td>2017-03-06</td>\n",
       "      <td>NaN</td>\n",
       "      <td>神策数据 | Sensors Data - 国内领先的用户行为分析产品</td>\n",
       "      <td>NaN</td>\n",
       "      <td>NaN</td>\n",
       "      <td>NaN</td>\n",
       "      <td>...</td>\n",
       "      <td>111.204.198.242</td>\n",
       "      <td>pc</td>\n",
       "      <td>windows</td>\n",
       "      <td>10.0</td>\n",
       "      <td>True</td>\n",
       "      <td>True</td>\n",
       "      <td>NaN</td>\n",
       "      <td>NaN</td>\n",
       "      <td>NaN</td>\n",
       "      <td>NaN</td>\n",
       "    </tr>\n",
       "    <tr>\n",
       "      <th>2</th>\n",
       "      <td>track</td>\n",
       "      <td>652937076129</td>\n",
       "      <td>9939d3e087bca29c42334d96dccd25ca0e06652a</td>\n",
       "      <td>btnClick</td>\n",
       "      <td>2017-03-06</td>\n",
       "      <td>NaN</td>\n",
       "      <td>NaN</td>\n",
       "      <td>NaN</td>\n",
       "      <td>NaN</td>\n",
       "      <td>NaN</td>\n",
       "      <td>...</td>\n",
       "      <td>111.204.198.242</td>\n",
       "      <td>pc</td>\n",
       "      <td>windows</td>\n",
       "      <td>10.0</td>\n",
       "      <td>True</td>\n",
       "      <td>False</td>\n",
       "      <td>request</td>\n",
       "      <td>NaN</td>\n",
       "      <td>NaN</td>\n",
       "      <td>NaN</td>\n",
       "    </tr>\n",
       "    <tr>\n",
       "      <th>3</th>\n",
       "      <td>track</td>\n",
       "      <td>8207407748558</td>\n",
       "      <td>9939d3e087bca29c42334d96dccd25ca0e06652a</td>\n",
       "      <td>btnClick</td>\n",
       "      <td>2017-03-06</td>\n",
       "      <td>NaN</td>\n",
       "      <td>NaN</td>\n",
       "      <td>NaN</td>\n",
       "      <td>NaN</td>\n",
       "      <td>NaN</td>\n",
       "      <td>...</td>\n",
       "      <td>111.204.198.242</td>\n",
       "      <td>pc</td>\n",
       "      <td>windows</td>\n",
       "      <td>10.0</td>\n",
       "      <td>True</td>\n",
       "      <td>False</td>\n",
       "      <td>request</td>\n",
       "      <td>NaN</td>\n",
       "      <td>NaN</td>\n",
       "      <td>NaN</td>\n",
       "    </tr>\n",
       "    <tr>\n",
       "      <th>4</th>\n",
       "      <td>track</td>\n",
       "      <td>4967393021929</td>\n",
       "      <td>595466e9a8e733434ce08de16e927d985e0b5d48</td>\n",
       "      <td>demo_leave</td>\n",
       "      <td>2017-03-06</td>\n",
       "      <td>21.291</td>\n",
       "      <td>NaN</td>\n",
       "      <td>https://www.baidu.com/baidu.php</td>\n",
       "      <td>www.baidu.com</td>\n",
       "      <td>通用词</td>\n",
       "      <td>...</td>\n",
       "      <td>219.135.131.99</td>\n",
       "      <td>pc</td>\n",
       "      <td>windows</td>\n",
       "      <td>6.1</td>\n",
       "      <td>True</td>\n",
       "      <td>False</td>\n",
       "      <td>NaN</td>\n",
       "      <td>NaN</td>\n",
       "      <td>NaN</td>\n",
       "      <td>NaN</td>\n",
       "    </tr>\n",
       "  </tbody>\n",
       "</table>\n",
       "<p>5 rows × 26 columns</p>\n",
       "</div>"
      ],
      "text/plain": [
       "      tp        nocache                                   dist_id  \\\n",
       "0  track   654392402996  595466e9a8e733434ce08de16e927d985e0b5d48   \n",
       "1  track  9587552771961  9939d3e087bca29c42334d96dccd25ca0e06652a   \n",
       "2  track   652937076129  9939d3e087bca29c42334d96dccd25ca0e06652a   \n",
       "3  track  8207407748558  9939d3e087bca29c42334d96dccd25ca0e06652a   \n",
       "4  track  4967393021929  595466e9a8e733434ce08de16e927d985e0b5d48   \n",
       "\n",
       "         event         day  page_stayTime  \\\n",
       "0  index_leave  2017-03-06          5.692   \n",
       "1    $pageview  2017-03-06            NaN   \n",
       "2     btnClick  2017-03-06            NaN   \n",
       "3     btnClick  2017-03-06            NaN   \n",
       "4   demo_leave  2017-03-06         21.291   \n",
       "\n",
       "                                 title                  latest_referrer  \\\n",
       "0                                  NaN                              NaN   \n",
       "1  神策数据 | Sensors Data - 国内领先的用户行为分析产品                              NaN   \n",
       "2                                  NaN                              NaN   \n",
       "3                                  NaN                              NaN   \n",
       "4                                  NaN  https://www.baidu.com/baidu.php   \n",
       "\n",
       "  latest_referrer_host latest_utm_campaign   ...                 ip model  \\\n",
       "0                  NaN                 通用词   ...     219.135.131.99    pc   \n",
       "1                  NaN                 NaN   ...    111.204.198.242    pc   \n",
       "2                  NaN                 NaN   ...    111.204.198.242    pc   \n",
       "3                  NaN                 NaN   ...    111.204.198.242    pc   \n",
       "4        www.baidu.com                 通用词   ...     219.135.131.99    pc   \n",
       "\n",
       "        os os_version is_first_day  is_first_time     name isSuccess isMsg  \\\n",
       "0  windows        6.1         True          False      NaN       NaN   NaN   \n",
       "1  windows       10.0         True           True      NaN       NaN   NaN   \n",
       "2  windows       10.0         True          False  request       NaN   NaN   \n",
       "3  windows       10.0         True          False  request       NaN   NaN   \n",
       "4  windows        6.1         True          False      NaN       NaN   NaN   \n",
       "\n",
       "   result  \n",
       "0     NaN  \n",
       "1     NaN  \n",
       "2     NaN  \n",
       "3     NaN  \n",
       "4     NaN  \n",
       "\n",
       "[5 rows x 26 columns]"
      ]
     },
     "execution_count": 439,
     "metadata": {},
     "output_type": "execute_result"
    }
   ],
   "source": [
    "# Browse dataset\n",
    "df.head(5)"
   ]
  },
  {
   "cell_type": "code",
   "execution_count": 440,
   "metadata": {},
   "outputs": [
    {
     "data": {
      "text/plain": [
       "track    65673\n",
       "Name: tp, dtype: int64"
      ]
     },
     "execution_count": 440,
     "metadata": {},
     "output_type": "execute_result"
    }
   ],
   "source": [
    "df['tp'].value_counts()"
   ]
  },
  {
   "cell_type": "markdown",
   "metadata": {},
   "source": [
    "Here we focus only on the 65,673 'track' record."
   ]
  },
  {
   "cell_type": "code",
   "execution_count": 441,
   "metadata": {},
   "outputs": [
    {
     "name": "stdout",
     "output_type": "stream",
     "text": [
      "<class 'pandas.core.frame.DataFrame'>\n",
      "RangeIndex: 65673 entries, 0 to 65672\n",
      "Data columns (total 26 columns):\n",
      "tp                      65673 non-null object\n",
      "nocache                 65673 non-null int64\n",
      "dist_id                 65673 non-null object\n",
      "event                   65673 non-null object\n",
      "day                     65673 non-null object\n",
      "page_stayTime           16720 non-null float64\n",
      "title                   32620 non-null object\n",
      "latest_referrer         40374 non-null object\n",
      "latest_referrer_host    40374 non-null object\n",
      "latest_utm_campaign     39903 non-null object\n",
      "latest_utm_content      38763 non-null object\n",
      "latest_utm_medium       39691 non-null object\n",
      "latest_utm_source       40583 non-null object\n",
      "latest_utm_term         39095 non-null object\n",
      "browser                 65673 non-null object\n",
      "browser_version         65673 non-null float64\n",
      "ip                      65673 non-null object\n",
      "model                   65673 non-null object\n",
      "os                      65673 non-null object\n",
      "os_version              65673 non-null float64\n",
      "is_first_day            65673 non-null bool\n",
      "is_first_time           65673 non-null bool\n",
      "name                    15121 non-null object\n",
      "isSuccess               791 non-null object\n",
      "isMsg                   469 non-null object\n",
      "result                  1163 non-null object\n",
      "dtypes: bool(2), float64(3), int64(1), object(20)\n",
      "memory usage: 12.2+ MB\n"
     ]
    }
   ],
   "source": [
    "# Inspect dataset\n",
    "df.info()"
   ]
  },
  {
   "cell_type": "code",
   "execution_count": 442,
   "metadata": {
    "scrolled": true
   },
   "outputs": [
    {
     "data": {
      "text/html": [
       "<div>\n",
       "<style scoped>\n",
       "    .dataframe tbody tr th:only-of-type {\n",
       "        vertical-align: middle;\n",
       "    }\n",
       "\n",
       "    .dataframe tbody tr th {\n",
       "        vertical-align: top;\n",
       "    }\n",
       "\n",
       "    .dataframe thead th {\n",
       "        text-align: right;\n",
       "    }\n",
       "</style>\n",
       "<table border=\"1\" class=\"dataframe\">\n",
       "  <thead>\n",
       "    <tr style=\"text-align: right;\">\n",
       "      <th></th>\n",
       "      <th>nocache</th>\n",
       "      <th>page_stayTime</th>\n",
       "      <th>browser_version</th>\n",
       "      <th>os_version</th>\n",
       "    </tr>\n",
       "  </thead>\n",
       "  <tbody>\n",
       "    <tr>\n",
       "      <th>count</th>\n",
       "      <td>6.567300e+04</td>\n",
       "      <td>1.672000e+04</td>\n",
       "      <td>65673.000000</td>\n",
       "      <td>65673.000000</td>\n",
       "    </tr>\n",
       "    <tr>\n",
       "      <th>mean</th>\n",
       "      <td>5.006425e+12</td>\n",
       "      <td>6.681742e+03</td>\n",
       "      <td>38.448048</td>\n",
       "      <td>8.148547</td>\n",
       "    </tr>\n",
       "    <tr>\n",
       "      <th>std</th>\n",
       "      <td>2.889785e+12</td>\n",
       "      <td>5.343221e+04</td>\n",
       "      <td>20.759074</td>\n",
       "      <td>2.154611</td>\n",
       "    </tr>\n",
       "    <tr>\n",
       "      <th>min</th>\n",
       "      <td>8.076069e+07</td>\n",
       "      <td>3.300000e-02</td>\n",
       "      <td>-1.000000</td>\n",
       "      <td>-1.000000</td>\n",
       "    </tr>\n",
       "    <tr>\n",
       "      <th>25%</th>\n",
       "      <td>2.502955e+12</td>\n",
       "      <td>5.390750e+00</td>\n",
       "      <td>10.000000</td>\n",
       "      <td>6.100000</td>\n",
       "    </tr>\n",
       "    <tr>\n",
       "      <th>50%</th>\n",
       "      <td>5.009308e+12</td>\n",
       "      <td>2.057950e+01</td>\n",
       "      <td>50.000000</td>\n",
       "      <td>10.000000</td>\n",
       "    </tr>\n",
       "    <tr>\n",
       "      <th>75%</th>\n",
       "      <td>7.504237e+12</td>\n",
       "      <td>2.261860e+02</td>\n",
       "      <td>56.000000</td>\n",
       "      <td>10.110000</td>\n",
       "    </tr>\n",
       "    <tr>\n",
       "      <th>max</th>\n",
       "      <td>9.999519e+12</td>\n",
       "      <td>2.918014e+06</td>\n",
       "      <td>59.000000</td>\n",
       "      <td>10.900000</td>\n",
       "    </tr>\n",
       "  </tbody>\n",
       "</table>\n",
       "</div>"
      ],
      "text/plain": [
       "            nocache  page_stayTime  browser_version    os_version\n",
       "count  6.567300e+04   1.672000e+04     65673.000000  65673.000000\n",
       "mean   5.006425e+12   6.681742e+03        38.448048      8.148547\n",
       "std    2.889785e+12   5.343221e+04        20.759074      2.154611\n",
       "min    8.076069e+07   3.300000e-02        -1.000000     -1.000000\n",
       "25%    2.502955e+12   5.390750e+00        10.000000      6.100000\n",
       "50%    5.009308e+12   2.057950e+01        50.000000     10.000000\n",
       "75%    7.504237e+12   2.261860e+02        56.000000     10.110000\n",
       "max    9.999519e+12   2.918014e+06        59.000000     10.900000"
      ]
     },
     "execution_count": 442,
     "metadata": {},
     "output_type": "execute_result"
    }
   ],
   "source": [
    "# Show summary stats\n",
    "df.describe()"
   ]
  },
  {
   "cell_type": "code",
   "execution_count": 443,
   "metadata": {
    "scrolled": false
   },
   "outputs": [
    {
     "data": {
      "text/plain": [
       "isMsg                 65204\n",
       "isSuccess             64882\n",
       "result                64510\n",
       "name                  50552\n",
       "page_stayTime         48953\n",
       "title                 33053\n",
       "latest_utm_content    26910\n",
       "                      ...  \n",
       "is_first_day              0\n",
       "is_first_time             0\n",
       "day                       0\n",
       "event                     0\n",
       "dist_id                   0\n",
       "nocache                   0\n",
       "tp                        0\n",
       "Length: 26, dtype: int64"
      ]
     },
     "execution_count": 443,
     "metadata": {},
     "output_type": "execute_result"
    }
   ],
   "source": [
    "# Count missing values by column\n",
    "df.isnull().sum().sort_values(ascending=False)"
   ]
  },
  {
   "cell_type": "markdown",
   "metadata": {},
   "source": [
    "There are some features with large amount of missing value, we will deal with them later."
   ]
  },
  {
   "cell_type": "markdown",
   "metadata": {},
   "source": [
    "## 2. Explore data"
   ]
  },
  {
   "cell_type": "markdown",
   "metadata": {},
   "source": [
    "### 2.1 Select identifier"
   ]
  },
  {
   "cell_type": "code",
   "execution_count": 444,
   "metadata": {},
   "outputs": [
    {
     "data": {
      "text/plain": [
       "count                                        65673\n",
       "unique                                       11708\n",
       "top       835cc4405ee7e42e5b401a25e65b4830b02af7d3\n",
       "freq                                           254\n",
       "Name: dist_id, dtype: object"
      ]
     },
     "execution_count": 444,
     "metadata": {},
     "output_type": "execute_result"
    }
   ],
   "source": [
    "df['dist_id'].describe()"
   ]
  },
  {
   "cell_type": "code",
   "execution_count": 445,
   "metadata": {},
   "outputs": [
    {
     "name": "stdout",
     "output_type": "stream",
     "text": [
      "7104818490333    7\n",
      "4158870456740    5\n",
      "6478417382678    2\n",
      "4481974656227    2\n",
      "7255641519909    2\n",
      "5839058838593    2\n",
      "9376702152658    1\n",
      "                ..\n",
      "4344534689574    1\n",
      "3663056789361    1\n",
      "3250978312099    1\n",
      "8120808271207    1\n",
      "2588751337464    1\n",
      "2362459986835    1\n",
      "8072086379435    1\n",
      "Name: nocache, Length: 65659, dtype: int64\n"
     ]
    }
   ],
   "source": [
    "print(df['nocache'].value_counts())"
   ]
  },
  {
   "cell_type": "code",
   "execution_count": 446,
   "metadata": {},
   "outputs": [
    {
     "data": {
      "text/plain": [
       "count               65673\n",
       "unique               9870\n",
       "top       113.208.116.250\n",
       "freq                 1399\n",
       "Name: ip, dtype: object"
      ]
     },
     "execution_count": 446,
     "metadata": {},
     "output_type": "execute_result"
    }
   ],
   "source": [
    "df['ip'].describe()"
   ]
  },
  {
   "cell_type": "markdown",
   "metadata": {},
   "source": [
    "- distinct_id, hash: change from browser and cookie id to protect user privacy; 11708 distinct values\n",
    "- nocache: might be simplified identifier. The number of distinct nocache is 65659. The frequency is too low.\n",
    "- ip: 9870 distinct values, each ip address can have multiple users\n",
    "##### distinct_id is a better identifier，it is random，and can be used for unbiased experiments test split "
   ]
  },
  {
   "cell_type": "markdown",
   "metadata": {},
   "source": [
    "### 2.2 Numeric variables"
   ]
  },
  {
   "cell_type": "markdown",
   "metadata": {},
   "source": [
    "### 2.2.1 page_stayTime"
   ]
  },
  {
   "cell_type": "code",
   "execution_count": 447,
   "metadata": {},
   "outputs": [],
   "source": [
    "# transform 'page_stayTime' from milliseconds to seconds\n",
    "df['page_stayTime'] = round(df['page_stayTime'] / 1000, 3) "
   ]
  },
  {
   "cell_type": "code",
   "execution_count": 448,
   "metadata": {
    "scrolled": false
   },
   "outputs": [
    {
     "name": "stderr",
     "output_type": "stream",
     "text": [
      "/anaconda3/lib/python3.6/site-packages/ipykernel_launcher.py:2: RuntimeWarning: divide by zero encountered in log10\n",
      "  \n"
     ]
    },
    {
     "data": {
      "image/png": "[encoded data removed]",
      "text/plain": [
       "<Figure size 432x288 with 1 Axes>"
      ]
     },
     "metadata": {},
     "output_type": "display_data"
    }
   ],
   "source": [
    "# log transfer to avoid long tail\n",
    "np.log10(df['page_stayTime']).plot.hist(bins=np.arange(-2,4,0.2), range=(df['page_stayTime'].min(),df['page_stayTime'].max()))\n",
    "plt.xlabel(\"user # plays (10^n)\")\n",
    "plt.title('Page Stay Time in Seconds') \n",
    "plt.savefig('page_stayTime.png',bbox_inches=\"tight\",dpi=500)    "
   ]
  },
  {
   "cell_type": "code",
   "execution_count": 449,
   "metadata": {},
   "outputs": [
    {
     "data": {
      "text/plain": [
       "count    16720.000000\n",
       "mean         6.681739\n",
       "std         53.432215\n",
       "min          0.000000\n",
       "25%          0.005000\n",
       "50%          0.021000\n",
       "75%          0.226000\n",
       "max       2918.014000\n",
       "Name: page_stayTime, dtype: float64"
      ]
     },
     "execution_count": 449,
     "metadata": {},
     "output_type": "execute_result"
    }
   ],
   "source": [
    "df['page_stayTime'].describe()"
   ]
  },
  {
   "cell_type": "markdown",
   "metadata": {},
   "source": [
    "##### Insights "
   ]
  },
  {
   "attachments": {},
   "cell_type": "markdown",
   "metadata": {},
   "source": [
    "The plot shows that most of user stayed in the page for less than 1 second(10^-1), and the 75 percentile 'page_stayTime' value is 0.226 second, which means most of the records with 'page_stayTime' value did not mean user really stay in the page, they might leave when the page was loading."
   ]
  },
  {
   "cell_type": "code",
   "execution_count": 450,
   "metadata": {},
   "outputs": [
    {
     "name": "stdout",
     "output_type": "stream",
     "text": [
      "Only 11.41 % of the people who clicked the functional pages stayed more than 3 seconds\n"
     ]
    }
   ],
   "source": [
    "stay_rate = round(df['page_stayTime'][df['page_stayTime'] >= 3].count() / \\\n",
    "                  df['page_stayTime'][df['page_stayTime'] >= 0].count(), 4) * 100\n",
    "print(\"Only %.2f\"% stay_rate,\"%\",\"of the people who clicked the functional pages stayed more than 3 seconds\")"
   ]
  },
  {
   "cell_type": "markdown",
   "metadata": {},
   "source": [
    "#### create feautres \"page_stayTime\"\n",
    "Sum up the total stay time by pages."
   ]
  },
  {
   "cell_type": "code",
   "execution_count": 451,
   "metadata": {},
   "outputs": [],
   "source": [
    "# define function to generate features \"page_stayTime\"\n",
    "page_leave_list = ['index_leave', 'demo_leave', 'about_leave', 'courses_leave', 'courses_play_leave']\n",
    "\n",
    "def create_page_stayTime_features(df, leave_list):\n",
    "    for leave in leave_list:\n",
    "        df[leave + '_stayTime'] = df[df_time['event'] == leave]['page_stayTime']\n",
    "        df[leave + '_stayTime'] = df[leave + '_stayTime'].fillna(0)\n",
    "    return df    "
   ]
  },
  {
   "cell_type": "code",
   "execution_count": 452,
   "metadata": {},
   "outputs": [],
   "source": [
    "df = create_page_stayTime_features(df, page_leave_list)"
   ]
  },
  {
   "cell_type": "code",
   "execution_count": 453,
   "metadata": {},
   "outputs": [
    {
     "data": {
      "text/html": [
       "<div>\n",
       "<style scoped>\n",
       "    .dataframe tbody tr th:only-of-type {\n",
       "        vertical-align: middle;\n",
       "    }\n",
       "\n",
       "    .dataframe tbody tr th {\n",
       "        vertical-align: top;\n",
       "    }\n",
       "\n",
       "    .dataframe thead th {\n",
       "        text-align: right;\n",
       "    }\n",
       "</style>\n",
       "<table border=\"1\" class=\"dataframe\">\n",
       "  <thead>\n",
       "    <tr style=\"text-align: right;\">\n",
       "      <th></th>\n",
       "      <th>tp</th>\n",
       "      <th>nocache</th>\n",
       "      <th>dist_id</th>\n",
       "      <th>event</th>\n",
       "      <th>day</th>\n",
       "      <th>page_stayTime</th>\n",
       "      <th>title</th>\n",
       "      <th>latest_referrer</th>\n",
       "      <th>latest_referrer_host</th>\n",
       "      <th>latest_utm_campaign</th>\n",
       "      <th>...</th>\n",
       "      <th>is_first_time</th>\n",
       "      <th>name</th>\n",
       "      <th>isSuccess</th>\n",
       "      <th>isMsg</th>\n",
       "      <th>result</th>\n",
       "      <th>index_leave_stayTime</th>\n",
       "      <th>demo_leave_stayTime</th>\n",
       "      <th>about_leave_stayTime</th>\n",
       "      <th>courses_leave_stayTime</th>\n",
       "      <th>courses_play_leave_stayTime</th>\n",
       "    </tr>\n",
       "  </thead>\n",
       "  <tbody>\n",
       "    <tr>\n",
       "      <th>0</th>\n",
       "      <td>track</td>\n",
       "      <td>654392402996</td>\n",
       "      <td>595466e9a8e733434ce08de16e927d985e0b5d48</td>\n",
       "      <td>index_leave</td>\n",
       "      <td>2017-03-06</td>\n",
       "      <td>0.006</td>\n",
       "      <td>NaN</td>\n",
       "      <td>NaN</td>\n",
       "      <td>NaN</td>\n",
       "      <td>通用词</td>\n",
       "      <td>...</td>\n",
       "      <td>False</td>\n",
       "      <td>NaN</td>\n",
       "      <td>NaN</td>\n",
       "      <td>NaN</td>\n",
       "      <td>NaN</td>\n",
       "      <td>0.006</td>\n",
       "      <td>0.000</td>\n",
       "      <td>0.0</td>\n",
       "      <td>0.0</td>\n",
       "      <td>0.0</td>\n",
       "    </tr>\n",
       "    <tr>\n",
       "      <th>1</th>\n",
       "      <td>track</td>\n",
       "      <td>9587552771961</td>\n",
       "      <td>9939d3e087bca29c42334d96dccd25ca0e06652a</td>\n",
       "      <td>$pageview</td>\n",
       "      <td>2017-03-06</td>\n",
       "      <td>NaN</td>\n",
       "      <td>神策数据 | Sensors Data - 国内领先的用户行为分析产品</td>\n",
       "      <td>NaN</td>\n",
       "      <td>NaN</td>\n",
       "      <td>NaN</td>\n",
       "      <td>...</td>\n",
       "      <td>True</td>\n",
       "      <td>NaN</td>\n",
       "      <td>NaN</td>\n",
       "      <td>NaN</td>\n",
       "      <td>NaN</td>\n",
       "      <td>0.000</td>\n",
       "      <td>0.000</td>\n",
       "      <td>0.0</td>\n",
       "      <td>0.0</td>\n",
       "      <td>0.0</td>\n",
       "    </tr>\n",
       "    <tr>\n",
       "      <th>2</th>\n",
       "      <td>track</td>\n",
       "      <td>652937076129</td>\n",
       "      <td>9939d3e087bca29c42334d96dccd25ca0e06652a</td>\n",
       "      <td>btnClick</td>\n",
       "      <td>2017-03-06</td>\n",
       "      <td>NaN</td>\n",
       "      <td>NaN</td>\n",
       "      <td>NaN</td>\n",
       "      <td>NaN</td>\n",
       "      <td>NaN</td>\n",
       "      <td>...</td>\n",
       "      <td>False</td>\n",
       "      <td>request</td>\n",
       "      <td>NaN</td>\n",
       "      <td>NaN</td>\n",
       "      <td>NaN</td>\n",
       "      <td>0.000</td>\n",
       "      <td>0.000</td>\n",
       "      <td>0.0</td>\n",
       "      <td>0.0</td>\n",
       "      <td>0.0</td>\n",
       "    </tr>\n",
       "    <tr>\n",
       "      <th>3</th>\n",
       "      <td>track</td>\n",
       "      <td>8207407748558</td>\n",
       "      <td>9939d3e087bca29c42334d96dccd25ca0e06652a</td>\n",
       "      <td>btnClick</td>\n",
       "      <td>2017-03-06</td>\n",
       "      <td>NaN</td>\n",
       "      <td>NaN</td>\n",
       "      <td>NaN</td>\n",
       "      <td>NaN</td>\n",
       "      <td>NaN</td>\n",
       "      <td>...</td>\n",
       "      <td>False</td>\n",
       "      <td>request</td>\n",
       "      <td>NaN</td>\n",
       "      <td>NaN</td>\n",
       "      <td>NaN</td>\n",
       "      <td>0.000</td>\n",
       "      <td>0.000</td>\n",
       "      <td>0.0</td>\n",
       "      <td>0.0</td>\n",
       "      <td>0.0</td>\n",
       "    </tr>\n",
       "    <tr>\n",
       "      <th>4</th>\n",
       "      <td>track</td>\n",
       "      <td>4967393021929</td>\n",
       "      <td>595466e9a8e733434ce08de16e927d985e0b5d48</td>\n",
       "      <td>demo_leave</td>\n",
       "      <td>2017-03-06</td>\n",
       "      <td>0.021</td>\n",
       "      <td>NaN</td>\n",
       "      <td>https://www.baidu.com/baidu.php</td>\n",
       "      <td>www.baidu.com</td>\n",
       "      <td>通用词</td>\n",
       "      <td>...</td>\n",
       "      <td>False</td>\n",
       "      <td>NaN</td>\n",
       "      <td>NaN</td>\n",
       "      <td>NaN</td>\n",
       "      <td>NaN</td>\n",
       "      <td>0.000</td>\n",
       "      <td>0.021</td>\n",
       "      <td>0.0</td>\n",
       "      <td>0.0</td>\n",
       "      <td>0.0</td>\n",
       "    </tr>\n",
       "  </tbody>\n",
       "</table>\n",
       "<p>5 rows × 31 columns</p>\n",
       "</div>"
      ],
      "text/plain": [
       "      tp        nocache                                   dist_id  \\\n",
       "0  track   654392402996  595466e9a8e733434ce08de16e927d985e0b5d48   \n",
       "1  track  9587552771961  9939d3e087bca29c42334d96dccd25ca0e06652a   \n",
       "2  track   652937076129  9939d3e087bca29c42334d96dccd25ca0e06652a   \n",
       "3  track  8207407748558  9939d3e087bca29c42334d96dccd25ca0e06652a   \n",
       "4  track  4967393021929  595466e9a8e733434ce08de16e927d985e0b5d48   \n",
       "\n",
       "         event         day  page_stayTime  \\\n",
       "0  index_leave  2017-03-06          0.006   \n",
       "1    $pageview  2017-03-06            NaN   \n",
       "2     btnClick  2017-03-06            NaN   \n",
       "3     btnClick  2017-03-06            NaN   \n",
       "4   demo_leave  2017-03-06          0.021   \n",
       "\n",
       "                                 title                  latest_referrer  \\\n",
       "0                                  NaN                              NaN   \n",
       "1  神策数据 | Sensors Data - 国内领先的用户行为分析产品                              NaN   \n",
       "2                                  NaN                              NaN   \n",
       "3                                  NaN                              NaN   \n",
       "4                                  NaN  https://www.baidu.com/baidu.php   \n",
       "\n",
       "  latest_referrer_host latest_utm_campaign             ...               \\\n",
       "0                  NaN                 通用词             ...                \n",
       "1                  NaN                 NaN             ...                \n",
       "2                  NaN                 NaN             ...                \n",
       "3                  NaN                 NaN             ...                \n",
       "4        www.baidu.com                 通用词             ...                \n",
       "\n",
       "  is_first_time     name isSuccess isMsg result  index_leave_stayTime  \\\n",
       "0         False      NaN       NaN   NaN    NaN                 0.006   \n",
       "1          True      NaN       NaN   NaN    NaN                 0.000   \n",
       "2         False  request       NaN   NaN    NaN                 0.000   \n",
       "3         False  request       NaN   NaN    NaN                 0.000   \n",
       "4         False      NaN       NaN   NaN    NaN                 0.000   \n",
       "\n",
       "  demo_leave_stayTime about_leave_stayTime courses_leave_stayTime  \\\n",
       "0               0.000                  0.0                    0.0   \n",
       "1               0.000                  0.0                    0.0   \n",
       "2               0.000                  0.0                    0.0   \n",
       "3               0.000                  0.0                    0.0   \n",
       "4               0.021                  0.0                    0.0   \n",
       "\n",
       "   courses_play_leave_stayTime  \n",
       "0                          0.0  \n",
       "1                          0.0  \n",
       "2                          0.0  \n",
       "3                          0.0  \n",
       "4                          0.0  \n",
       "\n",
       "[5 rows x 31 columns]"
      ]
     },
     "execution_count": 453,
     "metadata": {},
     "output_type": "execute_result"
    }
   ],
   "source": [
    "df.head(5)"
   ]
  },
  {
   "cell_type": "markdown",
   "metadata": {},
   "source": [
    "### 2.3 Categorical variables"
   ]
  },
  {
   "cell_type": "markdown",
   "metadata": {},
   "source": [
    "### 2.3.1 event"
   ]
  },
  {
   "cell_type": "code",
   "execution_count": 454,
   "metadata": {},
   "outputs": [
    {
     "data": {
      "text/plain": [
       "$pageview                32620\n",
       "btnClick                 13866\n",
       "index_leave              10394\n",
       "demo_leave                3411\n",
       "about_leave               1032\n",
       "courses_leave              906\n",
       "formSubmit                 791\n",
       "courses_play_leave         747\n",
       "click_send_cellphone       600\n",
       "verify_cellphone_code      563\n",
       "clickSubmit                513\n",
       "page_close                 230\n",
       "Name: event, dtype: int64"
      ]
     },
     "execution_count": 454,
     "metadata": {},
     "output_type": "execute_result"
    }
   ],
   "source": [
    "df['event'].value_counts()"
   ]
  },
  {
   "cell_type": "markdown",
   "metadata": {},
   "source": [
    "##### Funnel Analysis:  \n",
    "page view -> btnClick -> click_send_cellphone -> verify_cellphone_code -> clickSubmit -> formSubmit"
   ]
  },
  {
   "cell_type": "markdown",
   "metadata": {},
   "source": [
    "#### Calculate conversation between funnel sections"
   ]
  },
  {
   "cell_type": "code",
   "execution_count": 455,
   "metadata": {},
   "outputs": [],
   "source": [
    "feature_percentage_list = ['page_close','clickSubmit','verify_cellphone_code','click_send_cellphone', 'courses_play_leave', \n",
    "           'about_leave', 'demo_leave', 'index_leave', 'btnClick','$pageview']"
   ]
  },
  {
   "cell_type": "code",
   "execution_count": 456,
   "metadata": {},
   "outputs": [],
   "source": [
    "# define function to calculate distinct 'dist_id' of different events in 'feature_percentage_list'\n",
    "def count_distinct(df, feature_percentage_list):\n",
    "    count = []\n",
    "    for feature in feature_percentage_list:\n",
    "        count.append(df[df['event'] == feature]['dist_id'].nunique())\n",
    "    return count"
   ]
  },
  {
   "cell_type": "code",
   "execution_count": 457,
   "metadata": {},
   "outputs": [],
   "source": [
    "# count distinct 'dist_id' of different events in 'feature_percentage_list'\n",
    "distinct = count_distinct(df, feature_percentage_list)\n",
    "# count distinct 'dist_id' clicking the 'request' button, and add to the distinct list\n",
    "distinct = distinct + [df[df['name']== 'request']['dist_id'].nunique()]\n",
    "# count distinct 'dist_id' successfully sign up, and add to the distinct list\n",
    "# we define successfully sign up as property 'isSuccess' is 'True'\n",
    "distinct = distinct + [df[df['isSuccess']== True]['dist_id'].nunique()]"
   ]
  },
  {
   "cell_type": "code",
   "execution_count": 460,
   "metadata": {},
   "outputs": [],
   "source": [
    "# add 'apply_for_trial' and 'sign_up_successfully' to 'feature_percentage_list'\n",
    "feature_percentage_list = feature_percentage_list + ['apply_for_trial', 'sign_up_successfully']"
   ]
  },
  {
   "cell_type": "code",
   "execution_count": 461,
   "metadata": {},
   "outputs": [],
   "source": [
    "# count distinct 'dist_id' in event '$pageview'\n",
    "pageview_distinct = df[df['event'] == '$pageview']['dist_id'].nunique()\n",
    "# create dataframe\n",
    "df_distinct = pd.DataFrame(\n",
    "    {'event': feature_percentage_list,\n",
    "     'distinct_dist_id_count': distinct,\n",
    "     '$pageview_dist_id_count':[pageview_distinct] * len(feature_percentage_list)\n",
    "    })"
   ]
  },
  {
   "cell_type": "code",
   "execution_count": 462,
   "metadata": {},
   "outputs": [],
   "source": [
    "# create new column to calculate 'Conversation Rate'\n",
    "df_distinct['Conversation Rate'] = round(df_distinct['distinct_dist_id_count'] / \\\n",
    "                                         df_distinct['$pageview_dist_id_count'] ,4)"
   ]
  },
  {
   "cell_type": "code",
   "execution_count": 463,
   "metadata": {},
   "outputs": [
    {
     "data": {
      "text/html": [
       "<div>\n",
       "<style scoped>\n",
       "    .dataframe tbody tr th:only-of-type {\n",
       "        vertical-align: middle;\n",
       "    }\n",
       "\n",
       "    .dataframe tbody tr th {\n",
       "        vertical-align: top;\n",
       "    }\n",
       "\n",
       "    .dataframe thead th {\n",
       "        text-align: right;\n",
       "    }\n",
       "</style>\n",
       "<table border=\"1\" class=\"dataframe\">\n",
       "  <thead>\n",
       "    <tr style=\"text-align: right;\">\n",
       "      <th></th>\n",
       "      <th>distinct_dist_id_count</th>\n",
       "      <th>$pageview_dist_id_count</th>\n",
       "      <th>Conversation Rate</th>\n",
       "    </tr>\n",
       "    <tr>\n",
       "      <th>event</th>\n",
       "      <th></th>\n",
       "      <th></th>\n",
       "      <th></th>\n",
       "    </tr>\n",
       "  </thead>\n",
       "  <tbody>\n",
       "    <tr>\n",
       "      <th>page_close</th>\n",
       "      <td>97</td>\n",
       "      <td>11587</td>\n",
       "      <td>0.0084</td>\n",
       "    </tr>\n",
       "    <tr>\n",
       "      <th>sign_up_successfully</th>\n",
       "      <td>457</td>\n",
       "      <td>11587</td>\n",
       "      <td>0.0394</td>\n",
       "    </tr>\n",
       "    <tr>\n",
       "      <th>clickSubmit</th>\n",
       "      <td>461</td>\n",
       "      <td>11587</td>\n",
       "      <td>0.0398</td>\n",
       "    </tr>\n",
       "    <tr>\n",
       "      <th>verify_cellphone_code</th>\n",
       "      <td>472</td>\n",
       "      <td>11587</td>\n",
       "      <td>0.0407</td>\n",
       "    </tr>\n",
       "    <tr>\n",
       "      <th>click_send_cellphone</th>\n",
       "      <td>501</td>\n",
       "      <td>11587</td>\n",
       "      <td>0.0432</td>\n",
       "    </tr>\n",
       "    <tr>\n",
       "      <th>apply_for_trial</th>\n",
       "      <td>2106</td>\n",
       "      <td>11587</td>\n",
       "      <td>0.1818</td>\n",
       "    </tr>\n",
       "    <tr>\n",
       "      <th>courses_play_leave</th>\n",
       "      <td>370</td>\n",
       "      <td>11587</td>\n",
       "      <td>0.0319</td>\n",
       "    </tr>\n",
       "    <tr>\n",
       "      <th>about_leave</th>\n",
       "      <td>712</td>\n",
       "      <td>11587</td>\n",
       "      <td>0.0614</td>\n",
       "    </tr>\n",
       "    <tr>\n",
       "      <th>demo_leave</th>\n",
       "      <td>1436</td>\n",
       "      <td>11587</td>\n",
       "      <td>0.1239</td>\n",
       "    </tr>\n",
       "    <tr>\n",
       "      <th>index_leave</th>\n",
       "      <td>6946</td>\n",
       "      <td>11587</td>\n",
       "      <td>0.5995</td>\n",
       "    </tr>\n",
       "    <tr>\n",
       "      <th>btnClick</th>\n",
       "      <td>4501</td>\n",
       "      <td>11587</td>\n",
       "      <td>0.3885</td>\n",
       "    </tr>\n",
       "    <tr>\n",
       "      <th>$pageview</th>\n",
       "      <td>11587</td>\n",
       "      <td>11587</td>\n",
       "      <td>1.0000</td>\n",
       "    </tr>\n",
       "  </tbody>\n",
       "</table>\n",
       "</div>"
      ],
      "text/plain": [
       "                       distinct_dist_id_count  $pageview_dist_id_count  \\\n",
       "event                                                                    \n",
       "page_close                                 97                    11587   \n",
       "sign_up_successfully                      457                    11587   \n",
       "clickSubmit                               461                    11587   \n",
       "verify_cellphone_code                     472                    11587   \n",
       "click_send_cellphone                      501                    11587   \n",
       "apply_for_trial                          2106                    11587   \n",
       "courses_play_leave                        370                    11587   \n",
       "about_leave                               712                    11587   \n",
       "demo_leave                               1436                    11587   \n",
       "index_leave                              6946                    11587   \n",
       "btnClick                                 4501                    11587   \n",
       "$pageview                               11587                    11587   \n",
       "\n",
       "                       Conversation Rate  \n",
       "event                                     \n",
       "page_close                        0.0084  \n",
       "sign_up_successfully              0.0394  \n",
       "clickSubmit                       0.0398  \n",
       "verify_cellphone_code             0.0407  \n",
       "click_send_cellphone              0.0432  \n",
       "apply_for_trial                   0.1818  \n",
       "courses_play_leave                0.0319  \n",
       "about_leave                       0.0614  \n",
       "demo_leave                        0.1239  \n",
       "index_leave                       0.5995  \n",
       "btnClick                          0.3885  \n",
       "$pageview                         1.0000  "
      ]
     },
     "execution_count": 463,
     "metadata": {},
     "output_type": "execute_result"
    }
   ],
   "source": [
    "# set_index and reorder index\n",
    "df_distinct = df_distinct.set_index('event')\n",
    "df_distinct = df_distinct.reindex(['page_close','sign_up_successfully',\n",
    "                                   'clickSubmit', 'verify_cellphone_code',\n",
    "                                   'click_send_cellphone', 'apply_for_trial',\n",
    "                                   'courses_play_leave', 'about_leave', \n",
    "                                   'demo_leave', 'index_leave', \n",
    "                                   'btnClick','$pageview'])\n",
    "df_distinct"
   ]
  },
  {
   "cell_type": "code",
   "execution_count": 464,
   "metadata": {},
   "outputs": [
    {
     "data": {
      "image/png": "[encoded data removed]",
      "text/plain": [
       "<Figure size 640x480 with 1 Axes>"
      ]
     },
     "metadata": {},
     "output_type": "display_data"
    }
   ],
   "source": [
    "import matplotlib.pyplot as plt; plt.rcdefaults()\n",
    "\n",
    "x = ('page_close / pageview','sign_up_successfully / pageview',\n",
    "     'clickSubmit / pageview','verify_cellphone_code / pageview',\n",
    "     'click_send_cellphone / pageview','apply_for_trial / pageview',\n",
    "     'courses_play_leave / pageview', 'about_leave / pageview', \n",
    "     'demo_leave / pageview', 'index_leave / pageview', \n",
    "     'btnClick / pageview','pageview')\n",
    "y = df_distinct['Conversation Rate']\n",
    " \n",
    "fig, ax = plt.subplots()    \n",
    "width = 0.75 # the width of the bars \n",
    "ind = np.arange(len(y))  # the x locations for the groups\n",
    "ax.barh(ind, y, width, color=\"lightskyblue\", align='center', alpha=0.5)\n",
    "ax.set_yticks(ind+width/2)\n",
    "ax.set_yticklabels(x, minor=False)\n",
    "plt.xlabel('Conversation Rate')\n",
    "plt.title('Conversation Rate') \n",
    "\n",
    "for i, v in enumerate(y):\n",
    "    ax.text(v + 0.02, i - 0.2, str(v), color='blue')\n",
    "plt.savefig('conversationrate.png',bbox_inches=\"tight\",dpi=500)    \n",
    "plt.show()"
   ]
  },
  {
   "cell_type": "markdown",
   "metadata": {},
   "source": [
    "Here we define 'signup' with the action 'click_send_cellphone', which means 'dist_id' attemps to sign up an account.  \n",
    "We define 'signup successfully' with 'isSuccess' property of 'formSubmit'  is 'True'.  \n",
    "We define 'apply_for_trial' with 'name' property of 'btnClick' is 'request'."
   ]
  },
  {
   "cell_type": "code",
   "execution_count": 466,
   "metadata": {},
   "outputs": [
    {
     "name": "stdout",
     "output_type": "stream",
     "text": [
      "'button_click_rate': 38.85 % of the people who viewed the webpage and clicked a button\n",
      "'apply_for_trial_rate': 18.18 % of the people who viewed the webpage and clicked the 'request' button\n",
      "'signup_to_apply_for_trial_rate': 23.79 % of the people who clicked the 'request' button and clicked 'send_cellphone' attempting to signup\n",
      "'signup_rate': 4.32 % of the people who viewed the webpage and clicked 'send_cellphone' attempting to signup\n",
      "'successfully_signup_rate': 91.22 % of the people who clicked 'send_cellphone' attempting to signup did successfully registered\n"
     ]
    }
   ],
   "source": [
    "# claculate the conversion rate between different funnel sections\n",
    "# ratio of 'btnClick' distinct 'dist_id' to '$pageview' distinct 'dist_id'\n",
    "button_click_rate = round(df[df['event'] == 'btnClick']['dist_id'].nunique()/\n",
    "                         df[df['event'] == '$pageview']['dist_id'].nunique(), 4) * 100\n",
    "# ratio of 'btnClick_request' distinct 'dist_id' to '$pageview' distinct 'dist_id'\n",
    "apply_for_trial_rate = round(df[df['name']== 'request']['dist_id'].nunique()/\n",
    "                         df[df['event'] == '$pageview']['dist_id'].nunique(), 4) * 100\n",
    "# ratio of 'click_send_cellphone' distinct 'dist_id' to 'btnClick_request' distinct 'dist_id'\n",
    "signup_to_apply_for_trial_rate = round(df[df['event'] == 'click_send_cellphone']['dist_id'].nunique()/\n",
    "                         df[df['name']== 'request']['dist_id'].nunique(), 4) * 100\n",
    "# ratio of 'click_send_cellphone' distinct 'dist_id' to '$pageview' distinct' distinct 'dist_id'\n",
    "signup_rate = round(df[df['event'] == 'click_send_cellphone']['dist_id'].nunique()/\n",
    "                         df[df['event'] == '$pageview']['dist_id'].nunique(), 4) * 100\n",
    "# ratio of 'signup successfully' distinct 'dist_id' to 'click_send_cellphone' distinct 'dist_id'\n",
    "successfully_signup_rate = round(df[df['isSuccess'] == True]['dist_id'].nunique()/\n",
    "                         df[df['event'] == 'click_send_cellphone']['dist_id'].nunique(), 4) * 100\n",
    "print(\"'button_click_rate':\", \"%.2f\"% button_click_rate,\"%\",\"of the people who viewed the webpage and clicked a button\")\n",
    "print(\"'apply_for_trial_rate':\", \"%.2f\"% apply_for_trial_rate,\"%\",\"of the people who viewed the webpage and clicked the 'request' button\")\n",
    "print(\"'signup_to_apply_for_trial_rate':\", \"%.2f\"% signup_to_apply_for_trial_rate,\"%\",\"of the people who clicked the 'request' button and clicked 'send_cellphone' attempting to signup\")\n",
    "print(\"'signup_rate':\", \"%.2f\"% signup_rate,\"%\",\"of the people who viewed the webpage and clicked 'send_cellphone' attempting to signup\")\n",
    "print(\"'successfully_signup_rate':\",\"%.2f\"% successfully_signup_rate,\"%\",\"of the people who clicked 'send_cellphone' attempting to signup did successfully registered\")"
   ]
  },
  {
   "cell_type": "markdown",
   "metadata": {},
   "source": [
    "##### Insights：\n",
    "From the plot and ratio calculated above, we notice that:  \n",
    "- 'button_click_rate' is only 38.85%, most users do not click buttons on pages.  \n",
    "We should improve the layout of our pages, modify the wording or color of our buttons to make our pages more attractive.\n",
    "- 'apply_for_trial_rate' is only 18.18%, most users do not click 'request' buttons on pages.  \n",
    "We should polish our service description, modify the wording or color of our 'request' buttons to make our pages more attractive.\n",
    "- 'signup_to_apply_for_trial_rate' is only 23.79%, most users who clicked 'request' button at the beginning did not apply when they were asked to provide phone number, perhaps the users care about personal privacy.  \n",
    "Providing other registration options, like e-mail or social network accounts, may be a good choice.\n",
    "- 'signup_rate' is only 4.32%, most users who viewed the webpage did not attempt to sign up, the same idea with 'apply_for_trial_rate'.  \n",
    "- 'successfully_signup_rate' is 91.22%, we lost nearly 9% of users who attempting to sign up.  \n",
    "We should try to improve the efficiency of our sign up process, provide other registration options."
   ]
  },
  {
   "cell_type": "markdown",
   "metadata": {},
   "source": [
    "### 2.3.2 day"
   ]
  },
  {
   "cell_type": "code",
   "execution_count": 467,
   "metadata": {},
   "outputs": [
    {
     "data": {
      "text/plain": [
       "Text(0.5,1,'Log Record Counts by Day')"
      ]
     },
     "execution_count": 467,
     "metadata": {},
     "output_type": "execute_result"
    },
    {
     "data": {
      "image/png": "[encoded data removed]",
      "text/plain": [
       "<Figure size 640x480 with 1 Axes>"
      ]
     },
     "metadata": {},
     "output_type": "display_data"
    }
   ],
   "source": [
    "import matplotlib.pyplot as plt; plt.rcdefaults()\n",
    "# plot records count by day\n",
    "df[\"day\"] = df[\"day\"].astype(\"datetime64\")\n",
    "df[\"day\"].groupby(df[\"day\"].dt.day).count().plot(kind=\"bar\", color=\"lightskyblue\")\n",
    "plt.title('Log Record Counts by Day') "
   ]
  },
  {
   "cell_type": "markdown",
   "metadata": {},
   "source": [
    "We notice that there are less user behaviors in 2017-03-11 and 2017-03-12, let's check the day of week of these two days. "
   ]
  },
  {
   "cell_type": "code",
   "execution_count": 428,
   "metadata": {},
   "outputs": [
    {
     "name": "stdout",
     "output_type": "stream",
     "text": [
      "2017-03-11 is the 6 th day of the week\n"
     ]
    }
   ],
   "source": [
    "# check day of week\n",
    "print(\"2017-03-11 is the\", datetime.datetime(2017, 3, 11).weekday() + 1 , \"th day of the week\")"
   ]
  },
  {
   "cell_type": "code",
   "execution_count": 427,
   "metadata": {},
   "outputs": [
    {
     "name": "stdout",
     "output_type": "stream",
     "text": [
      "2017-03-12 is the 7 th day of the week\n"
     ]
    }
   ],
   "source": [
    "# check day of week\n",
    "print(\"2017-03-12 is the\", datetime.datetime(2017, 3, 12).weekday() + 1 , \"th day of the week\")"
   ]
  },
  {
   "cell_type": "markdown",
   "metadata": {},
   "source": [
    "##### Insights：\n",
    "2017-03-11 and 2017-03-12 are weekends and have the least number of counts, perhaps users visit our website more for work purposes."
   ]
  },
  {
   "cell_type": "markdown",
   "metadata": {},
   "source": [
    "#### create feature 'weekend' \n",
    "With values: '1' for weekend, '0' and weekdays"
   ]
  },
  {
   "cell_type": "code",
   "execution_count": 355,
   "metadata": {},
   "outputs": [],
   "source": [
    "df['weekend'] = ((df.day == '2017-03-11') | (df.day == '2017-03-12')) * 1"
   ]
  },
  {
   "cell_type": "code",
   "execution_count": 399,
   "metadata": {},
   "outputs": [
    {
     "data": {
      "text/plain": [
       "0    58300\n",
       "1     7373\n",
       "Name: weekend, dtype: int64"
      ]
     },
     "execution_count": 399,
     "metadata": {},
     "output_type": "execute_result"
    }
   ],
   "source": [
    "df['weekend'].value_counts(dropna = False)"
   ]
  },
  {
   "cell_type": "markdown",
   "metadata": {},
   "source": [
    "### 2.3.3 title "
   ]
  },
  {
   "cell_type": "code",
   "execution_count": 359,
   "metadata": {},
   "outputs": [
    {
     "data": {
      "text/plain": [
       "神策数据 | Sensors Data - 国内领先的用户行为分析产品                   13700\n",
       "神策分析|Sensors Analytics-帮你实现数据驱动－demo                   4148\n",
       "介绍 · Sensors Analytics 使用手册                            3542\n",
       "神策分析|Sensors Analytics-帮你实现数据驱动－产品                     2455\n",
       "神策分析|Sensors Analytics-帮你实现数据驱动－B轮融资发布会                1899\n",
       "神策分析|Sensors Analytics-帮你实现数据驱动－关于                     1183\n",
       "神策分析|Sensors Analytics-帮你实现数据驱动-视频列表                   1129\n",
       "                                                      ...  \n",
       "C SDK · Sensors Analytics 使用手册                            1\n",
       "3 神策分析|Sensors Analytics-帮你实现数据驱动－demo                    1\n",
       "Sensor Analytics - help you implement data drivers        1\n",
       "3 神策分析|Sensors Analytics-帮你实现数据驱动－关于                      1\n",
       "神策分析 | Sensors Analytics - 帮你实现数据驱动－B 轮融资发布会              1\n",
       "其他辅助工具 · Sensors Analytics 使用手册                           1\n",
       "导入状态 · Sensors Analytics 使用手册                             1\n",
       "Name: title, Length: 108, dtype: int64"
      ]
     },
     "execution_count": 359,
     "metadata": {},
     "output_type": "execute_result"
    }
   ],
   "source": [
    "df[df['event'] == '$pageview'][\"title\"].value_counts(dropna=False) "
   ]
  },
  {
   "cell_type": "markdown",
   "metadata": {},
   "source": [
    "##### Insights:\n",
    "Users visit our ‘demo’ page, ‘user manual’ page and ‘product’ page most frequently. If we plan to improve the layout of our pages, these three pages should have high priority."
   ]
  },
  {
   "cell_type": "markdown",
   "metadata": {},
   "source": [
    "### 2.3.4 latest_referrer_host"
   ]
  },
  {
   "cell_type": "code",
   "execution_count": 360,
   "metadata": {
    "scrolled": true
   },
   "outputs": [
    {
     "data": {
      "text/plain": [
       "NaN                          13771\n",
       "www.baidu.com                13146\n",
       "m.baidu.com                    983\n",
       "36kr.com                       694\n",
       "www.sogou.com                  687\n",
       "www.google.com.hk              416\n",
       "www.google.com                 346\n",
       "                             ...  \n",
       "www.xfz.cn                       1\n",
       "sensorsdata.chunyu.me            1\n",
       "lnkd.in                          1\n",
       "saweb.quickcan.com               1\n",
       "cache.baiducontent.com           1\n",
       "vincentt.baijia.baidu.com        1\n",
       "www.innotree.cn                  1\n",
       "Name: latest_referrer_host, Length: 197, dtype: int64"
      ]
     },
     "execution_count": 360,
     "metadata": {},
     "output_type": "execute_result"
    }
   ],
   "source": [
    "df[df['event'] == '$pageview']['latest_referrer_host'].value_counts(dropna=False)  "
   ]
  },
  {
   "cell_type": "markdown",
   "metadata": {},
   "source": [
    "##### Insights:  \n",
    "Most of empty ‘latest_referrer_host’ are directly from sensordata website.\n",
    "The other users were referred mostly from 'baidu', '36kr', 'sogou' and 'google', especially 'baidu' which contributed times of referred users than the other hosts.\n",
    "Thus, if we want to run marketing campaign, 'baidu' should be allocated more budget to."
   ]
  },
  {
   "cell_type": "markdown",
   "metadata": {},
   "source": [
    "#### create feature 'latest_referrer_host_bin' \n",
    "With values: 'sensordata', 'baidu' and 'others'"
   ]
  },
  {
   "cell_type": "code",
   "execution_count": 362,
   "metadata": {},
   "outputs": [],
   "source": [
    "df['latest_referrer_host_bin'] = df['latest_referrer_host']"
   ]
  },
  {
   "cell_type": "code",
   "execution_count": 363,
   "metadata": {},
   "outputs": [],
   "source": [
    "# fill empty values as 'sensordata'\n",
    "df['latest_referrer_host_bin'] = df['latest_referrer_host_bin'].fillna('sensordata')"
   ]
  },
  {
   "cell_type": "code",
   "execution_count": 365,
   "metadata": {},
   "outputs": [
    {
     "name": "stderr",
     "output_type": "stream",
     "text": [
      "/anaconda3/lib/python3.6/site-packages/ipykernel_launcher.py:2: SettingWithCopyWarning: \n",
      "A value is trying to be set on a copy of a slice from a DataFrame\n",
      "\n",
      "See the caveats in the documentation: http://pandas.pydata.org/pandas-docs/stable/indexing.html#indexing-view-versus-copy\n",
      "  \n"
     ]
    }
   ],
   "source": [
    "# assign value \"baidu\" to df['latest_referrer_host_bin'] whose value contains 'baidu'\n",
    "df.latest_referrer_host_bin[df.latest_referrer_host_bin.str.contains('baidu')] = 'baidu'"
   ]
  },
  {
   "cell_type": "code",
   "execution_count": 366,
   "metadata": {},
   "outputs": [
    {
     "name": "stderr",
     "output_type": "stream",
     "text": [
      "/anaconda3/lib/python3.6/site-packages/ipykernel_launcher.py:1: SettingWithCopyWarning: \n",
      "A value is trying to be set on a copy of a slice from a DataFrame\n",
      "\n",
      "See the caveats in the documentation: http://pandas.pydata.org/pandas-docs/stable/indexing.html#indexing-view-versus-copy\n",
      "  \"\"\"Entry point for launching an IPython kernel.\n"
     ]
    }
   ],
   "source": [
    "# assign value \"others\" to df['latest_referrer_host_bin'] whose value is not 'baidu' and 'sensordata'\n",
    "df.latest_referrer_host_bin[~df.latest_referrer_host_bin.isin(['baidu','sensordata'])] = 'others'"
   ]
  },
  {
   "cell_type": "code",
   "execution_count": 400,
   "metadata": {},
   "outputs": [
    {
     "data": {
      "text/plain": [
       "baidu         31378\n",
       "sensordata    25299\n",
       "others         8996\n",
       "Name: latest_referrer_host_bin, dtype: int64"
      ]
     },
     "execution_count": 400,
     "metadata": {},
     "output_type": "execute_result"
    }
   ],
   "source": [
    "df.latest_referrer_host_bin.value_counts(dropna = False)"
   ]
  },
  {
   "cell_type": "markdown",
   "metadata": {},
   "source": [
    "### 2.3.5 latest_utm_source "
   ]
  },
  {
   "cell_type": "code",
   "execution_count": 118,
   "metadata": {},
   "outputs": [
    {
     "data": {
      "text/plain": [
       "baidu           36085\n",
       "NaN             25090\n",
       "sogou            1943\n",
       "sales4c           441\n",
       "wechat            432\n",
       "google            393\n",
       "admin             374\n",
       "                ...  \n",
       "xiangc              1\n",
       "fuyu                1\n",
       "lingchentian        1\n",
       "xiuxin              1\n",
       "huangkan            1\n",
       "zhangji             1\n",
       "quqianshun          1\n",
       "Name: latest_utm_source, Length: 54, dtype: int64"
      ]
     },
     "execution_count": 118,
     "metadata": {},
     "output_type": "execute_result"
    }
   ],
   "source": [
    "df['latest_utm_source'].value_counts(dropna=False)"
   ]
  },
  {
   "cell_type": "markdown",
   "metadata": {},
   "source": [
    "##### Insights:    \n",
    "Most of campaign sources are 'baidu', and empty ‘latest_utm_source’ are directly from sensordata website.  \n",
    "Thus, if we want to run marketing campaign, 'baidu' should be allocated more budget to."
   ]
  },
  {
   "cell_type": "markdown",
   "metadata": {},
   "source": [
    "#### create feature  'latest_utm_source_bin'\n",
    "With values: 'sensordata', 'baidu' and 'others'"
   ]
  },
  {
   "cell_type": "code",
   "execution_count": 368,
   "metadata": {},
   "outputs": [],
   "source": [
    "df['latest_utm_source_bin'] = df['latest_utm_source']"
   ]
  },
  {
   "cell_type": "code",
   "execution_count": 369,
   "metadata": {},
   "outputs": [],
   "source": [
    "# fill empty values as 'sensordata'\n",
    "df['latest_utm_source_bin'] = df['latest_utm_source_bin'].fillna('sensordata')"
   ]
  },
  {
   "cell_type": "code",
   "execution_count": 370,
   "metadata": {},
   "outputs": [
    {
     "name": "stderr",
     "output_type": "stream",
     "text": [
      "/anaconda3/lib/python3.6/site-packages/ipykernel_launcher.py:2: SettingWithCopyWarning: \n",
      "A value is trying to be set on a copy of a slice from a DataFrame\n",
      "\n",
      "See the caveats in the documentation: http://pandas.pydata.org/pandas-docs/stable/indexing.html#indexing-view-versus-copy\n",
      "  \n"
     ]
    }
   ],
   "source": [
    "# assign value \"baidu\" to df['latest_utm_source_bin'] whose value contains 'baidu'\n",
    "df.latest_utm_source_bin[df.latest_utm_source_bin.str.contains('baidu')] = 'baidu'"
   ]
  },
  {
   "cell_type": "code",
   "execution_count": 371,
   "metadata": {},
   "outputs": [
    {
     "name": "stderr",
     "output_type": "stream",
     "text": [
      "/anaconda3/lib/python3.6/site-packages/ipykernel_launcher.py:2: SettingWithCopyWarning: \n",
      "A value is trying to be set on a copy of a slice from a DataFrame\n",
      "\n",
      "See the caveats in the documentation: http://pandas.pydata.org/pandas-docs/stable/indexing.html#indexing-view-versus-copy\n",
      "  \n"
     ]
    }
   ],
   "source": [
    "# assign value \"others\" to df['latest_utm_source_bin'] whose value is not 'baidu' and 'sensordata'\n",
    "df.latest_utm_source_bin[~df.latest_utm_source_bin.isin(['baidu','sensordata'])] = 'others'"
   ]
  },
  {
   "cell_type": "code",
   "execution_count": 401,
   "metadata": {},
   "outputs": [
    {
     "data": {
      "text/plain": [
       "baidu         36085\n",
       "sensordata    25090\n",
       "others         4498\n",
       "Name: latest_utm_source_bin, dtype: int64"
      ]
     },
     "execution_count": 401,
     "metadata": {},
     "output_type": "execute_result"
    }
   ],
   "source": [
    "df.latest_utm_source_bin.value_counts(dropna = False)"
   ]
  },
  {
   "cell_type": "markdown",
   "metadata": {},
   "source": [
    "### 2.3.6 browser "
   ]
  },
  {
   "cell_type": "code",
   "execution_count": 122,
   "metadata": {},
   "outputs": [
    {
     "data": {
      "text/plain": [
       "chrome      42091\n",
       "safari       6952\n",
       "firefox      3775\n",
       "qq           2973\n",
       "sogou        2779\n",
       "ie           2254\n",
       "edge         1297\n",
       "            ...  \n",
       "liebao         82\n",
       "android        65\n",
       "360            59\n",
       "tt             28\n",
       "coolnovo        4\n",
       "yandex          4\n",
       "ali-ap          1\n",
       "Name: browser, Length: 23, dtype: int64"
      ]
     },
     "execution_count": 122,
     "metadata": {},
     "output_type": "execute_result"
    }
   ],
   "source": [
    "df['browser'].value_counts(dropna=False)"
   ]
  },
  {
   "cell_type": "markdown",
   "metadata": {},
   "source": [
    "##### Insights:    \n",
    "chrome is the most frequently used browser, much more frequently than the others."
   ]
  },
  {
   "cell_type": "markdown",
   "metadata": {},
   "source": [
    "#### create feature 'browser_bin'\n",
    "With values: 'chrome' and 'others'"
   ]
  },
  {
   "cell_type": "code",
   "execution_count": 386,
   "metadata": {},
   "outputs": [],
   "source": [
    "df['browser_bin'] = df['browser']"
   ]
  },
  {
   "cell_type": "code",
   "execution_count": 387,
   "metadata": {},
   "outputs": [
    {
     "name": "stderr",
     "output_type": "stream",
     "text": [
      "/anaconda3/lib/python3.6/site-packages/ipykernel_launcher.py:1: SettingWithCopyWarning: \n",
      "A value is trying to be set on a copy of a slice from a DataFrame\n",
      "\n",
      "See the caveats in the documentation: http://pandas.pydata.org/pandas-docs/stable/indexing.html#indexing-view-versus-copy\n",
      "  \"\"\"Entry point for launching an IPython kernel.\n"
     ]
    }
   ],
   "source": [
    "df.browser_bin[df.browser_bin != 'chrome'] = 'others'"
   ]
  },
  {
   "cell_type": "code",
   "execution_count": 402,
   "metadata": {},
   "outputs": [
    {
     "data": {
      "text/plain": [
       "chrome    42091\n",
       "others    23582\n",
       "Name: browser_bin, dtype: int64"
      ]
     },
     "execution_count": 402,
     "metadata": {},
     "output_type": "execute_result"
    }
   ],
   "source": [
    "df.browser_bin.value_counts(dropna = False)"
   ]
  },
  {
   "cell_type": "markdown",
   "metadata": {},
   "source": [
    "#### 2.3.7 ip"
   ]
  },
  {
   "cell_type": "code",
   "execution_count": 468,
   "metadata": {},
   "outputs": [
    {
     "data": {
      "text/plain": [
       "113.208.116.250    1399\n",
       "113.208.112.126     673\n",
       "113.208.118.30      392\n",
       "122.233.41.29       367\n",
       "106.38.73.242       247\n",
       "118.194.240.141     244\n",
       "61.190.32.52        233\n",
       "                   ... \n",
       "140.207.21.106        1\n",
       "117.136.0.172         1\n",
       "23.106.143.176        1\n",
       "222.128.173.242       1\n",
       "211.94.132.223        1\n",
       "114.255.40.53         1\n",
       "223.74.101.143        1\n",
       "Name: ip, Length: 9870, dtype: int64"
      ]
     },
     "execution_count": 468,
     "metadata": {},
     "output_type": "execute_result"
    }
   ],
   "source": [
    "df['ip'].value_counts(dropna=False)"
   ]
  },
  {
   "cell_type": "markdown",
   "metadata": {},
   "source": [
    "The same ip might be used by several users."
   ]
  },
  {
   "cell_type": "code",
   "execution_count": 389,
   "metadata": {},
   "outputs": [],
   "source": [
    "import geoip2.database\n",
    "\n",
    "# read library from local file\n",
    "reader = geoip2.database.Reader('../data/GeoLite2-City.mmdb')"
   ]
  },
  {
   "cell_type": "code",
   "execution_count": 390,
   "metadata": {},
   "outputs": [],
   "source": [
    "# Define CN: user has ip address in China, '1' for 'CN', '0' for abroad\n",
    "# df['CN'] = df['ip'].apply(lambda row: reader.country(row).country.iso_code == 'CN')\n",
    "city = []\n",
    "for i in range(len(df['ip'])):\n",
    "    try:\n",
    "        city.append (reader.city(df.loc[i,'ip']).city.name) \n",
    "    except:\n",
    "        city.append('others')"
   ]
  },
  {
   "cell_type": "code",
   "execution_count": 391,
   "metadata": {},
   "outputs": [],
   "source": [
    "df['city'] = city"
   ]
  },
  {
   "cell_type": "code",
   "execution_count": 393,
   "metadata": {},
   "outputs": [
    {
     "data": {
      "text/plain": [
       "Beijing         16288\n",
       "Shanghai         5396\n",
       "Shenzhen         4361\n",
       "Guangzhou        3667\n",
       "Hangzhou         2759\n",
       "Haidian          1947\n",
       "Chengdu          1750\n",
       "                ...  \n",
       "Paris               1\n",
       "Wafangdian          1\n",
       "Tainan City         1\n",
       "Chengjiao           1\n",
       "Selden              1\n",
       "Ordos               1\n",
       "Redwood City        1\n",
       "Name: city, Length: 248, dtype: int64"
      ]
     },
     "execution_count": 393,
     "metadata": {},
     "output_type": "execute_result"
    }
   ],
   "source": [
    "df['city'].value_counts()"
   ]
  },
  {
   "cell_type": "markdown",
   "metadata": {},
   "source": [
    "##### Insights:    \n",
    "We notice most of the users come from 'Beijing', 'Shanghai', 'Shenzhen' and 'Guangzhou'."
   ]
  },
  {
   "cell_type": "markdown",
   "metadata": {},
   "source": [
    "#### create feature 'city_bin' \n",
    "With values 'Beijing', 'Shanghai', 'Shenzhen', 'Guangzhou' and 'others'"
   ]
  },
  {
   "cell_type": "code",
   "execution_count": 394,
   "metadata": {},
   "outputs": [],
   "source": [
    "df['city_bin'] = df['city']"
   ]
  },
  {
   "cell_type": "code",
   "execution_count": 395,
   "metadata": {},
   "outputs": [
    {
     "name": "stderr",
     "output_type": "stream",
     "text": [
      "/anaconda3/lib/python3.6/site-packages/ipykernel_launcher.py:1: SettingWithCopyWarning: \n",
      "A value is trying to be set on a copy of a slice from a DataFrame\n",
      "\n",
      "See the caveats in the documentation: http://pandas.pydata.org/pandas-docs/stable/indexing.html#indexing-view-versus-copy\n",
      "  \"\"\"Entry point for launching an IPython kernel.\n"
     ]
    }
   ],
   "source": [
    "df.city_bin[~df.city_bin.isin(['Beijing', 'Shanghai', 'Shenzhen', 'Guangzhou'])] = 'others'"
   ]
  },
  {
   "cell_type": "code",
   "execution_count": 403,
   "metadata": {},
   "outputs": [
    {
     "data": {
      "text/plain": [
       "others       35961\n",
       "Beijing      16288\n",
       "Shanghai      5396\n",
       "Shenzhen      4361\n",
       "Guangzhou     3667\n",
       "Name: city_bin, dtype: int64"
      ]
     },
     "execution_count": 403,
     "metadata": {},
     "output_type": "execute_result"
    }
   ],
   "source": [
    "df['city_bin'].value_counts(dropna = False)"
   ]
  },
  {
   "cell_type": "markdown",
   "metadata": {},
   "source": [
    "### 2.3.8 model"
   ]
  },
  {
   "cell_type": "code",
   "execution_count": 398,
   "metadata": {},
   "outputs": [
    {
     "data": {
      "text/plain": [
       "pc         41656\n",
       "mac        19037\n",
       "iphone      2059\n",
       "android      760\n",
       "huawei       558\n",
       "na           448\n",
       "vivo         267\n",
       "           ...  \n",
       "lenovo        13\n",
       "coolpad       12\n",
       "htc            4\n",
       "oppo           3\n",
       "zte            2\n",
       "nokia          1\n",
       "lg             1\n",
       "Name: model, Length: 20, dtype: int64"
      ]
     },
     "execution_count": 398,
     "metadata": {},
     "output_type": "execute_result"
    }
   ],
   "source": [
    "df['model'].value_counts()"
   ]
  },
  {
   "cell_type": "markdown",
   "metadata": {},
   "source": [
    "##### Insights:    \n",
    "We notice most of the users use 'pc' and 'mac'."
   ]
  },
  {
   "cell_type": "markdown",
   "metadata": {},
   "source": [
    "#### create feature 'model_bin' \n",
    "With values 'pc', 'mac' and 'others'"
   ]
  },
  {
   "cell_type": "code",
   "execution_count": 405,
   "metadata": {},
   "outputs": [],
   "source": [
    "df['model_bin'] = df['model']"
   ]
  },
  {
   "cell_type": "code",
   "execution_count": 406,
   "metadata": {},
   "outputs": [
    {
     "name": "stderr",
     "output_type": "stream",
     "text": [
      "/anaconda3/lib/python3.6/site-packages/ipykernel_launcher.py:1: SettingWithCopyWarning: \n",
      "A value is trying to be set on a copy of a slice from a DataFrame\n",
      "\n",
      "See the caveats in the documentation: http://pandas.pydata.org/pandas-docs/stable/indexing.html#indexing-view-versus-copy\n",
      "  \"\"\"Entry point for launching an IPython kernel.\n"
     ]
    }
   ],
   "source": [
    "df.model_bin[~df.model.isin(['pc', 'mac'])] = 'others'"
   ]
  },
  {
   "cell_type": "code",
   "execution_count": 407,
   "metadata": {},
   "outputs": [
    {
     "data": {
      "text/plain": [
       "pc        41656\n",
       "mac       19037\n",
       "others     4980\n",
       "Name: model_bin, dtype: int64"
      ]
     },
     "execution_count": 407,
     "metadata": {},
     "output_type": "execute_result"
    }
   ],
   "source": [
    "df['model_bin'].value_counts(dropna = False)"
   ]
  },
  {
   "cell_type": "markdown",
   "metadata": {},
   "source": [
    "### 2.3.9 os"
   ]
  },
  {
   "cell_type": "code",
   "execution_count": 408,
   "metadata": {},
   "outputs": [
    {
     "data": {
      "text/plain": [
       "windows    41656\n",
       "macosx     19037\n",
       "Android     2324\n",
       "iOS         2208\n",
       "linux        411\n",
       "na            37\n",
       "Name: os, dtype: int64"
      ]
     },
     "execution_count": 408,
     "metadata": {},
     "output_type": "execute_result"
    }
   ],
   "source": [
    "df['os'].value_counts(dropna = False)"
   ]
  },
  {
   "cell_type": "markdown",
   "metadata": {},
   "source": [
    "##### Insights:    \n",
    "We notice most of the users use 'windows' and 'macosx'."
   ]
  },
  {
   "cell_type": "markdown",
   "metadata": {},
   "source": [
    "#### create feature 'os_bin' \n",
    "With values 'windows', 'macosx' and 'others'"
   ]
  },
  {
   "cell_type": "code",
   "execution_count": 409,
   "metadata": {},
   "outputs": [],
   "source": [
    "df['os_bin'] = df['os']"
   ]
  },
  {
   "cell_type": "code",
   "execution_count": 410,
   "metadata": {},
   "outputs": [
    {
     "name": "stderr",
     "output_type": "stream",
     "text": [
      "/anaconda3/lib/python3.6/site-packages/ipykernel_launcher.py:1: SettingWithCopyWarning: \n",
      "A value is trying to be set on a copy of a slice from a DataFrame\n",
      "\n",
      "See the caveats in the documentation: http://pandas.pydata.org/pandas-docs/stable/indexing.html#indexing-view-versus-copy\n",
      "  \"\"\"Entry point for launching an IPython kernel.\n"
     ]
    }
   ],
   "source": [
    "df.os_bin[~df.os.isin(['windows', 'macosx'])] = 'others'"
   ]
  },
  {
   "cell_type": "code",
   "execution_count": 411,
   "metadata": {},
   "outputs": [
    {
     "data": {
      "text/plain": [
       "windows    41656\n",
       "macosx     19037\n",
       "others      4980\n",
       "Name: os_bin, dtype: int64"
      ]
     },
     "execution_count": 411,
     "metadata": {},
     "output_type": "execute_result"
    }
   ],
   "source": [
    "df['os_bin'].value_counts(dropna = False)"
   ]
  },
  {
   "cell_type": "code",
   "execution_count": 412,
   "metadata": {},
   "outputs": [
    {
     "data": {
      "text/plain": [
       "pc        41656\n",
       "mac       19037\n",
       "others     4980\n",
       "Name: model_bin, dtype: int64"
      ]
     },
     "execution_count": 412,
     "metadata": {},
     "output_type": "execute_result"
    }
   ],
   "source": [
    "df['model_bin'].value_counts(dropna = False)"
   ]
  },
  {
   "cell_type": "markdown",
   "metadata": {},
   "source": [
    "##### As the distribution of feature 'os_bin' is the same as that of feature 'model_bin', we can only use 'model_bin' and drop 'os_bin'."
   ]
  },
  {
   "cell_type": "markdown",
   "metadata": {},
   "source": [
    "### 2.3.10 name"
   ]
  },
  {
   "cell_type": "code",
   "execution_count": 413,
   "metadata": {},
   "outputs": [
    {
     "data": {
      "text/plain": [
       "request            2967\n",
       "demo               2783\n",
       "document           2067\n",
       "product            1942\n",
       "b-round            1245\n",
       "about               925\n",
       "blog                803\n",
       "                   ... \n",
       "果*                    1\n",
       "3**                   1\n",
       "K**************       1\n",
       "b***                  1\n",
       "蔡*                    1\n",
       "1*******              1\n",
       "3*********            1\n",
       "Name: name, Length: 313, dtype: int64"
      ]
     },
     "execution_count": 413,
     "metadata": {},
     "output_type": "execute_result"
    }
   ],
   "source": [
    "df['name'].value_counts()"
   ]
  },
  {
   "cell_type": "markdown",
   "metadata": {},
   "source": [
    "save"
   ]
  },
  {
   "cell_type": "markdown",
   "metadata": {},
   "source": [
    "### 2.3.11 is_first_day"
   ]
  },
  {
   "cell_type": "code",
   "execution_count": 431,
   "metadata": {},
   "outputs": [
    {
     "data": {
      "text/plain": [
       "True     43231\n",
       "False    22442\n",
       "Name: is_first_day, dtype: int64"
      ]
     },
     "execution_count": 431,
     "metadata": {},
     "output_type": "execute_result"
    }
   ],
   "source": [
    "df['is_first_day'].value_counts(dropna = False)"
   ]
  },
  {
   "cell_type": "markdown",
   "metadata": {},
   "source": [
    "##### Insights:    \n",
    "We notice most users had visited our pages more than one day."
   ]
  },
  {
   "cell_type": "markdown",
   "metadata": {},
   "source": [
    "## 3 Select features"
   ]
  },
  {
   "cell_type": "markdown",
   "metadata": {},
   "source": [
    "### select features "
   ]
  },
  {
   "cell_type": "code",
   "execution_count": 414,
   "metadata": {},
   "outputs": [
    {
     "name": "stdout",
     "output_type": "stream",
     "text": [
      "<class 'pandas.core.frame.DataFrame'>\n",
      "RangeIndex: 65673 entries, 0 to 65672\n",
      "Data columns (total 39 columns):\n",
      "tp                             65673 non-null object\n",
      "nocache                        65673 non-null int64\n",
      "dist_id                        65673 non-null object\n",
      "event                          65673 non-null object\n",
      "day                            65673 non-null datetime64[ns]\n",
      "page_stayTime                  16720 non-null float64\n",
      "title                          32620 non-null object\n",
      "latest_referrer                40374 non-null object\n",
      "latest_referrer_host           40374 non-null object\n",
      "latest_utm_campaign            39903 non-null object\n",
      "latest_utm_content             38763 non-null object\n",
      "latest_utm_medium              39691 non-null object\n",
      "latest_utm_source              40583 non-null object\n",
      "latest_utm_term                39095 non-null object\n",
      "browser                        65673 non-null object\n",
      "browser_version                65673 non-null float64\n",
      "ip                             65673 non-null object\n",
      "model                          65673 non-null object\n",
      "os                             65673 non-null object\n",
      "os_version                     65673 non-null float64\n",
      "is_first_day                   65673 non-null bool\n",
      "is_first_time                  65673 non-null bool\n",
      "name                           15121 non-null object\n",
      "isSuccess                      791 non-null object\n",
      "isMsg                          469 non-null object\n",
      "result                         1163 non-null object\n",
      "index_leave_stayTime           65673 non-null float64\n",
      "demo_leave_stayTime            65673 non-null float64\n",
      "about_leave_stayTime           65673 non-null float64\n",
      "courses_leave_stayTime         65673 non-null float64\n",
      "courses_play_leave_stayTime    65673 non-null float64\n",
      "weekend                        65673 non-null int64\n",
      "latest_referrer_host_bin       65673 non-null object\n",
      "latest_utm_source_bin          65673 non-null object\n",
      "browser_bin                    65673 non-null object\n",
      "city                           43496 non-null object\n",
      "city_bin                       65673 non-null object\n",
      "model_bin                      65673 non-null object\n",
      "os_bin                         65673 non-null object\n",
      "dtypes: bool(2), datetime64[ns](1), float64(8), int64(2), object(26)\n",
      "memory usage: 18.7+ MB\n"
     ]
    }
   ],
   "source": [
    "df.info()"
   ]
  },
  {
   "cell_type": "code",
   "execution_count": 423,
   "metadata": {},
   "outputs": [],
   "source": [
    "selected_columns = [u'dist_id',u'event', u'day', u'weekend',\n",
    "                    u'is_first_day',u'is_first_time',u'index_leave_stayTime',\n",
    "                    u'demo_leave_stayTime',u'about_leave_stayTime',\n",
    "                    u'courses_leave_stayTime',u'courses_play_leave_stayTime',\n",
    "                    u'latest_referrer_host_bin',u'latest_utm_source_bin',u'browser_bin',\n",
    "                    u'city_bin',u'model_bin']"
   ]
  },
  {
   "cell_type": "code",
   "execution_count": 424,
   "metadata": {},
   "outputs": [],
   "source": [
    "df_select = df[selected_columns]"
   ]
  },
  {
   "cell_type": "code",
   "execution_count": 425,
   "metadata": {},
   "outputs": [
    {
     "data": {
      "text/plain": [
       "model_bin                      0\n",
       "city_bin                       0\n",
       "browser_bin                    0\n",
       "latest_utm_source_bin          0\n",
       "latest_referrer_host_bin       0\n",
       "courses_play_leave_stayTime    0\n",
       "courses_leave_stayTime         0\n",
       "                              ..\n",
       "index_leave_stayTime           0\n",
       "is_first_time                  0\n",
       "is_first_day                   0\n",
       "weekend                        0\n",
       "day                            0\n",
       "event                          0\n",
       "dist_id                        0\n",
       "Length: 16, dtype: int64"
      ]
     },
     "execution_count": 425,
     "metadata": {},
     "output_type": "execute_result"
    }
   ],
   "source": [
    "df_select.isnull().sum().sort_values(ascending = False) "
   ]
  },
  {
   "cell_type": "markdown",
   "metadata": {},
   "source": [
    "##### There is no missing value. "
   ]
  },
  {
   "cell_type": "markdown",
   "metadata": {},
   "source": [
    "### Save to csv file"
   ]
  },
  {
   "cell_type": "code",
   "execution_count": 426,
   "metadata": {},
   "outputs": [],
   "source": [
    "data_select = '../data/data_cleaned.csv'\n",
    "df_select.to_csv(data_select, index=False)"
   ]
  },
  {
   "cell_type": "code",
   "execution_count": null,
   "metadata": {},
   "outputs": [],
   "source": []
  }
 ],
 "metadata": {
  "kernelspec": {
   "display_name": "Python 3",
   "language": "python",
   "name": "python3"
  },
  "language_info": {
   "codemirror_mode": {
    "name": "ipython",
    "version": 3
   },
   "file_extension": ".py",
   "mimetype": "text/x-python",
   "name": "python",
   "nbconvert_exporter": "python",
   "pygments_lexer": "ipython3",
   "version": "3.6.5"
  }
 },
 "nbformat": 4,
 "nbformat_minor": 2
}
