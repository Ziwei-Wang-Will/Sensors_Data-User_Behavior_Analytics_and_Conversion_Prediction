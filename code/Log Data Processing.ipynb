{
 "cells": [
  {
   "cell_type": "markdown",
   "metadata": {},
   "source": [
    "# Sensor Data - Log Data Processing"
   ]
  },
  {
   "cell_type": "markdown",
   "metadata": {},
   "source": [
    "## Load data and browse data"
   ]
  },
  {
   "cell_type": "markdown",
   "metadata": {},
   "source": [
    "#### Load data "
   ]
  },
  {
   "cell_type": "code",
   "execution_count": 50,
   "metadata": {},
   "outputs": [],
   "source": [
    "import pandas as pd\n",
    "import os\n",
    "import json\n",
    "import datetime\n",
    "import matplotlib.pyplot as plt\n",
    "%matplotlib inline"
   ]
  },
  {
   "cell_type": "code",
   "execution_count": 91,
   "metadata": {},
   "outputs": [],
   "source": [
    "# Read each line of data as JSON file \n",
    "data = []\n",
    "with open(\"../data/sensorswww_data.txt\", \"r\") as f:\n",
    "    for line in f:\n",
    "        data.append(json.loads(line))"
   ]
  },
  {
   "cell_type": "code",
   "execution_count": 92,
   "metadata": {},
   "outputs": [
    {
     "data": {
      "text/plain": [
       "75092"
      ]
     },
     "execution_count": 92,
     "metadata": {},
     "output_type": "execute_result"
    }
   ],
   "source": [
    "# check dimension of data\n",
    "len(data)"
   ]
  },
  {
   "cell_type": "markdown",
   "metadata": {},
   "source": [
    "#### browse global keys"
   ]
  },
  {
   "cell_type": "code",
   "execution_count": 93,
   "metadata": {},
   "outputs": [],
   "source": [
    "global_keys = list()"
   ]
  },
  {
   "cell_type": "code",
   "execution_count": 94,
   "metadata": {},
   "outputs": [],
   "source": [
    "for i in range(len(data)):\n",
    "    for key in data[i].keys():\n",
    "        if key in global_keys:\n",
    "            continue\n",
    "        global_keys.append(key)"
   ]
  },
  {
   "cell_type": "code",
   "execution_count": 95,
   "metadata": {},
   "outputs": [
    {
     "data": {
      "text/plain": [
       "['distinct_id',\n",
       " 'lib',\n",
       " 'properties',\n",
       " 'type',\n",
       " 'event',\n",
       " '_nocache',\n",
       " 'time',\n",
       " 'jssdk_error']"
      ]
     },
     "execution_count": 95,
     "metadata": {},
     "output_type": "execute_result"
    }
   ],
   "source": [
    "global_keys"
   ]
  },
  {
   "cell_type": "markdown",
   "metadata": {},
   "source": [
    "##### global_keys\n",
    "\n",
    "1. distinct_id: unique identifier   \n",
    "for registered user:user account;   \n",
    "for unregistered: CookieID, deviceID, etc.  \n",
    "\n",
    "\n",
    "2. lib: JavaScript SDK related feature  \n",
    "\n",
    "\n",
    "3. properties: contains event specific variables in a dictionary format  \n",
    "\n",
    "\n",
    "4. type:  \n",
    "profile_set_once: Used for first time activate to set the user's first activation time and first registration time, ignored when profile already exist.   \n",
    "track: Record an event  \n",
    "\n",
    "\n",
    "5. event: `$pageview`, `btnClick`, `index_leave`, `demo_leave`, `courses_leave`, `courses_play_leave`, `formSubmit`,  `click_send_cellphone`, `verify_cellphone_code`, `clickSubmit`, `page_close`  \n",
    "\n",
    "  funnel analysis: to identify the bottleneck of conversion  \n",
    "  page view -> btnClick -> click_send_cellphone -> verify_cellphone_code -> clickSubmit -> formSubmit \n",
    "  \n",
    "  \n",
    "6. nocache: A simplied identifier for internal use  \n",
    "\n",
    "\n",
    "7. time: Exact time occuring of event, measured in miliseconds  \n",
    "\n",
    "\n",
    "8. day: convert time to days using timestamp  \n",
    "\n",
    "\n",
    "\n",
    "  \n",
    "\n"
   ]
  },
  {
   "cell_type": "markdown",
   "metadata": {},
   "source": [
    "#### check ‘type’ "
   ]
  },
  {
   "cell_type": "code",
   "execution_count": 96,
   "metadata": {},
   "outputs": [
    {
     "name": "stdout",
     "output_type": "stream",
     "text": [
      "track               65673\n",
      "profile_set_once     9419\n",
      "Name: type, dtype: int64\n"
     ]
    }
   ],
   "source": [
    "# check type\n",
    "tp = []\n",
    "for i in range(len(data)):\n",
    "    tp.append(data[i].get(\"type\",None))\n",
    "tp = pd.DataFrame({\"type\":tp})\n",
    "print(tp[\"type\"].value_counts())"
   ]
  },
  {
   "cell_type": "markdown",
   "metadata": {},
   "source": [
    "There are 9,419 'profile_set_once' and 65,673 'track'. We are only interested in the 'track' record."
   ]
  },
  {
   "cell_type": "markdown",
   "metadata": {},
   "source": [
    "#### check 'event' for 'track' type records "
   ]
  },
  {
   "cell_type": "code",
   "execution_count": 97,
   "metadata": {},
   "outputs": [
    {
     "name": "stdout",
     "output_type": "stream",
     "text": [
      "$pageview                32620\n",
      "btnClick                 13866\n",
      "index_leave              10394\n",
      "demo_leave                3411\n",
      "about_leave               1032\n",
      "courses_leave              906\n",
      "formSubmit                 791\n",
      "courses_play_leave         747\n",
      "click_send_cellphone       600\n",
      "verify_cellphone_code      563\n",
      "clickSubmit                513\n",
      "page_close                 230\n",
      "Name: event, dtype: int64\n",
      "records with missing values event    0\n",
      "dtype: int64\n"
     ]
    }
   ],
   "source": [
    "# check the 'track' reords attribute 'event'\n",
    "event = []\n",
    "for i in range(len(data)):\n",
    "    if data[i]['type'] == 'track':\n",
    "        event.append(data[i].get(\"event\",None))\n",
    "event = pd.DataFrame({\"event\":event})\n",
    "event_count = event[\"event\"].value_counts()\n",
    "print(event_count)\n",
    "print(\"records with missing values\", event.isnull().sum()) "
   ]
  },
  {
   "cell_type": "markdown",
   "metadata": {},
   "source": [
    "Funnel Analysis:   \n",
    "page view(32620) -> btnClick(13866) -> click_send_cellphone(600) -> verify_cellphone_code(563) -> clickSubmit(513) -> formSubmit(791)   \n",
    "It seems that most users did not attempt to submit a form"
   ]
  },
  {
   "cell_type": "markdown",
   "metadata": {},
   "source": [
    "#### check ‘properties' for 'track' type records"
   ]
  },
  {
   "cell_type": "code",
   "execution_count": 99,
   "metadata": {},
   "outputs": [
    {
     "data": {
      "text/plain": [
       "['$os',\n",
       " '$model',\n",
       " '$os_version',\n",
       " '$screen_height',\n",
       " '$screen_width',\n",
       " '$lib',\n",
       " '$lib_version',\n",
       " '$browser',\n",
       " '$browser_version',\n",
       " '$latest_referrer',\n",
       " '$latest_referrer_host',\n",
       " '$latest_utm_source',\n",
       " '$latest_utm_medium',\n",
       " '$latest_utm_campaign',\n",
       " '$latest_utm_content',\n",
       " '$latest_utm_term',\n",
       " '_latest_ch',\n",
       " '_session_referrer',\n",
       " '_session_referrer_host',\n",
       " 'session_page_url',\n",
       " 'pageUrl',\n",
       " 'pageStayTime',\n",
       " 'pagePosition',\n",
       " '$is_first_day',\n",
       " '$is_first_time',\n",
       " '$ip',\n",
       " '$referrer',\n",
       " '$referrer_host',\n",
       " '$url',\n",
       " '$url_path',\n",
       " '$title',\n",
       " 'ch',\n",
       " 'page',\n",
       " 'name',\n",
       " 'requestBtn',\n",
       " '$utm_source',\n",
       " '$utm_medium',\n",
       " '$utm_campaign',\n",
       " '$utm_content',\n",
       " '$utm_term',\n",
       " 'info',\n",
       " 'result',\n",
       " 'contact',\n",
       " 'verification_code',\n",
       " 'company',\n",
       " 'email',\n",
       " 'site_url',\n",
       " 'from_url',\n",
       " 'project_name',\n",
       " 'isSuccess',\n",
       " 'isMsg',\n",
       " 'referrerUrl',\n",
       " 'referrHostUrl',\n",
       " 'siteUrl',\n",
       " 'url_path',\n",
       " '_session_referrer_domain',\n",
       " '_session_from_url']"
      ]
     },
     "execution_count": 99,
     "metadata": {},
     "output_type": "execute_result"
    }
   ],
   "source": [
    "# check the 'track' reords attribute 'properties'\n",
    "event_properties = []\n",
    "for i in range(len(data)):\n",
    "    if data[i]['type'] == 'track':\n",
    "        for property in data[i]['properties'].keys():\n",
    "            if property in event_properties:\n",
    "                continue\n",
    "            event_properties.append(property)\n",
    "event_properties"
   ]
  },
  {
   "cell_type": "markdown",
   "metadata": {},
   "source": [
    "#### Select columns we want to get from the text and create pandas Dataframe"
   ]
  },
  {
   "cell_type": "code",
   "execution_count": 100,
   "metadata": {},
   "outputs": [],
   "source": [
    "# define function to transform milliseconds 'time' into time stamp 'date'\n",
    "def to_date(epoch):\n",
    "    return datetime.datetime.fromtimestamp(epoch/1000).strftime(\"%Y-%m-%d\")\n",
    "# first convert from milliseconds to seconds, and then convert format from time stamp"
   ]
  },
  {
   "cell_type": "code",
   "execution_count": 101,
   "metadata": {},
   "outputs": [],
   "source": [
    "# define pandas Dataframe with the columns we want to get from the text\n",
    "tp = []\n",
    "nocache = []\n",
    "dist_id = []\n",
    "event = []\n",
    "day = []\n",
    "page_stayTime = []\n",
    "title = []\n",
    "latest_referrer = []\n",
    "latest_referrer_host = []\n",
    "latest_utm_campaign = []\n",
    "latest_utm_content = []\n",
    "latest_utm_medium = []\n",
    "latest_utm_source = []\n",
    "latest_utm_term = []\n",
    "browser = []\n",
    "browser_version = []\n",
    "ip = []\n",
    "model = []\n",
    "os = []\n",
    "os_version = []\n",
    "is_first_day = []\n",
    "is_first_time = []\n",
    "name = []\n",
    "isSuccess = []\n",
    "isMsg = []\n",
    "result = []"
   ]
  },
  {
   "cell_type": "code",
   "execution_count": 102,
   "metadata": {},
   "outputs": [],
   "source": [
    "# Assign NA when the key value not found \n",
    "na = None\n",
    "\n",
    "for i in range(len(data)):\n",
    "    tp.append(data[i].get('type',na))\n",
    "    nocache.append(data[i].get('_nocache',na)) \n",
    "    dist_id.append(data[i]['distinct_id'])\n",
    "    event.append(data[i].get('event',na))\n",
    "    day.append(to_date(data[i]['time']))\n",
    "    # convert from milliseconds to seconds, and then convert format from time stamp\n",
    "    page_stayTime.append(data[i]['properties'].get('pageStayTime',na))\n",
    "    # convert from milliseconds to seconds\n",
    "    title.append(data[i]['properties'].get('$title',na))\n",
    "    # page name users view\n",
    "    latest_referrer.append(data[i]['properties'].get('$latest_referrer',na))    \n",
    "    # latest refereral website\n",
    "    latest_referrer_host.append(data[i]['properties'].get('$latest_referrer_host',na))    \n",
    "    # host website for latest referrel\n",
    "    latest_utm_campaign.append(data[i]['properties'].get('$latest_utm_campaign',na))    \n",
    "    # Campaign name\n",
    "    latest_utm_content.append(data[i]['properties'].get('$latest_utm_content',na))\n",
    "    # Campaign Content\n",
    "    latest_utm_medium.append(data[i]['properties'].get('$latest_utm_medium',na))\n",
    "    # Campaign medium\n",
    "    latest_utm_source.append(data[i]['properties'].get('$latest_utm_source',na))\n",
    "    # Campaign source\n",
    "    latest_utm_term.append(data[i]['properties'].get('$latest_utm_term',na))\n",
    "    # Campaign term\n",
    "    browser.append(data[i]['properties'].get('$browser',na)) \n",
    "    browser_version.append(data[i]['properties'].get('$browser_version',na)) \n",
    "    ip.append(data[i]['properties'].get('$ip',na))    \n",
    "    model.append(data[i]['properties'].get('$model',na)) # type of device(pc, iphone5, etc...)  \n",
    "    os.append(data[i]['properties'].get('$os',na))\n",
    "    os_version.append(data[i]['properties'].get('$os_version',na))\n",
    "    is_first_day.append(data[i]['properties'].get('$is_first_day',na)) \n",
    "    is_first_time.append(data[i]['properties'].get('$is_first_time',na)) \n",
    "    name.append(data[i]['properties'].get('name',na))\n",
    "    # name of buttons\n",
    "    isSuccess.append(data[i]['properties'].get('isSuccess',na))\n",
    "    # is the request button successful?\n",
    "    isMsg.append(data[i]['properties'].get('isMsg',na))\n",
    "    # is message been sent?\n",
    "    result.append(data[i]['properties'].get('result',na))\n",
    "    # status of click_send_cellphone and verify_cellphone_code     "
   ]
  },
  {
   "cell_type": "code",
   "execution_count": 103,
   "metadata": {},
   "outputs": [],
   "source": [
    "# generate pandas dataframe\n",
    "df = pd.DataFrame({\n",
    "'tp': tp,\n",
    "'nocache': nocache,\n",
    "'dist_id': dist_id,\n",
    "'event': event,\n",
    "'day': day,\n",
    "'page_stayTime': page_stayTime,\n",
    "'title': title,\n",
    "'latest_referrer': latest_referrer,\n",
    "'latest_referrer_host': latest_referrer_host,\n",
    "'latest_utm_campaign': latest_utm_campaign,\n",
    "'latest_utm_content': latest_utm_content,\n",
    "'latest_utm_medium': latest_utm_medium,\n",
    "'latest_utm_source': latest_utm_source,\n",
    "'latest_utm_term': latest_utm_term,\n",
    "'browser': browser,\n",
    "'browser_version': browser_version,\n",
    "'ip': ip,\n",
    "'model': model,\n",
    "'os': os,\n",
    "'os_version': os_version,\n",
    "'is_first_day': is_first_day,\n",
    "'is_first_time': is_first_time,\n",
    "'name': name,    \n",
    "'isSuccess': isSuccess,\n",
    "'isMsg': isMsg,\n",
    "'result': result\n",
    "})"
   ]
  },
  {
   "cell_type": "markdown",
   "metadata": {},
   "source": [
    "#### Filter 'track' record."
   ]
  },
  {
   "cell_type": "code",
   "execution_count": 104,
   "metadata": {},
   "outputs": [
    {
     "data": {
      "text/plain": [
       "track               65673\n",
       "profile_set_once     9419\n",
       "Name: tp, dtype: int64"
      ]
     },
     "execution_count": 104,
     "metadata": {},
     "output_type": "execute_result"
    }
   ],
   "source": [
    "df['tp'].value_counts()"
   ]
  },
  {
   "cell_type": "markdown",
   "metadata": {},
   "source": [
    "profile_set_once: Used for first time activate to set the user's first activation time and first registration time, ignored when profile already exist.   \n",
    "track: Record an event.  \n",
    "We will focus only on the 65,673 'track' record."
   ]
  },
  {
   "cell_type": "code",
   "execution_count": 105,
   "metadata": {},
   "outputs": [],
   "source": [
    "# filter 'track' record\n",
    "df = df[df['tp'] == 'track']"
   ]
  },
  {
   "cell_type": "markdown",
   "metadata": {},
   "source": [
    "#### Save to csv file"
   ]
  },
  {
   "cell_type": "code",
   "execution_count": 106,
   "metadata": {},
   "outputs": [],
   "source": [
    "data_all = '../data/data_all.csv'\n",
    "df.to_csv(data_all, index=False)"
   ]
  },
  {
   "cell_type": "code",
   "execution_count": null,
   "metadata": {},
   "outputs": [],
   "source": []
  }
 ],
 "metadata": {
  "kernelspec": {
   "display_name": "Python 3",
   "language": "python",
   "name": "python3"
  },
  "language_info": {
   "codemirror_mode": {
    "name": "ipython",
    "version": 3
   },
   "file_extension": ".py",
   "mimetype": "text/x-python",
   "name": "python",
   "nbconvert_exporter": "python",
   "pygments_lexer": "ipython3",
   "version": "3.6.5"
  }
 },
 "nbformat": 4,
 "nbformat_minor": 2
}
